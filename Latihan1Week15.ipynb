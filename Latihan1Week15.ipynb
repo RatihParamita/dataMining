{
  "nbformat": 4,
  "nbformat_minor": 0,
  "metadata": {
    "colab": {
      "provenance": [],
      "authorship_tag": "ABX9TyN8pjhjoj8sVSsq/8700p3f",
      "include_colab_link": true
    },
    "kernelspec": {
      "name": "python3",
      "display_name": "Python 3"
    },
    "language_info": {
      "name": "python"
    }
  },
  "cells": [
    {
      "cell_type": "markdown",
      "metadata": {
        "id": "view-in-github",
        "colab_type": "text"
      },
      "source": [
        "<a href=\"https://colab.research.google.com/github/RatihParamita/dataMining/blob/main/Latihan1Week15.ipynb\" target=\"_parent\"><img src=\"https://colab.research.google.com/assets/colab-badge.svg\" alt=\"Open In Colab\"/></a>"
      ]
    },
    {
      "cell_type": "code",
      "execution_count": 1,
      "metadata": {
        "id": "-uf5xsORM4j0"
      },
      "outputs": [],
      "source": [
        "import pandas as pd\n",
        "from sklearn.model_selection import train_test_split\n",
        "from sklearn.preprocessing import LabelEncoder, StandardScaler"
      ]
    },
    {
      "cell_type": "code",
      "source": [
        "data = {\n",
        "    \"NAMA PANGGILAN\": [\"Danni\", \"Adam\", \"Afin\", \"Ifi\", \"Albi\", \"Alo\", \"Angel\", \"Mita\", \"Aryod\", \"Nasya\",\n",
        "                       \"Daffa\", \"Fia\", \"Iqbal\", \"Fannisa\", \"Khoirul\", \"Fikri\", \"Dona\", \"bima\", \"Shobri\",\n",
        "                       \"Zidan\", \"lisa\", \"Rafi'u\", \"Rafif\", \"Ratih\", \"Rifqi\", \"Yudha\", \"Sofi\", \"Yolanda\"],\n",
        "    \"Hobi\": [\"Game Developing\", \"Game\", None, None, None, \"Menonton film\", \"Mendengarkan musik\", \"Memasak\", \"Game\",\n",
        "             \"Bermain puzzle\", \"Memasak\", \"Memasak\", \"Olahraga\", \"Mendengarkan musik\", \"Game\", \"Lari\", None, None,\n",
        "             \"Game\", \"Futsal\", None, \"Game\", None, \"Menonton film\", \"Game\", \"Game\", \"Mendengarkan musik\",\n",
        "             \"Mendengarkan musik\"],\n",
        "    \"Tinggi Badan\": [None, 170, None, None, 172, 170, 154, 155, 170, 160, 173, 154, 170, 160, 152, 170, None, None,\n",
        "                     171, 170, None, 170, None, 168, 168, 168, 160, 162],\n",
        "    \"Berat Badan\": [70, 50, None, None, 72, 63, 43, 55, 48, 44, 69, 53, 63, 50, 42, 82, None, None, 58, 60, None, 59,\n",
        "                    None, 50, 80, 48, 50, 49],\n",
        "    \"JENIS KENDARAAN\": [\"Jalan kaki\", \"Sepeda motor\", None, None, None, \"Sepeda motor\", \"Sepeda motor\", \"Sepeda motor\",\n",
        "                        \"Sepeda motor\", \"Sepeda motor\", \"Sepeda motor\", \"Sepeda motor\", \"Sepeda motor\", \"Sepeda motor\",\n",
        "                        \"Sepeda motor\", \"Sepeda motor\", None, None, \"Sepeda motor\", \"Sepeda motor\", None, \"Sepeda motor\",\n",
        "                        None, \"Sepeda motor\", \"Sepeda motor\", \"Sepeda motor\", \"Sepeda motor\", \"Sepeda motor\"]\n",
        "}\n",
        "df = pd.DataFrame(data)"
      ],
      "metadata": {
        "id": "9B9NTNROOSIe"
      },
      "execution_count": 14,
      "outputs": []
    },
    {
      "cell_type": "code",
      "source": [
        "# Mengisi nilai yang hilang dengan mean untuk kolom numerik\n",
        "df[\"Tinggi Badan\"] = df[\"Tinggi Badan\"].astype(float).fillna(df[\"Tinggi Badan\"].mean())\n",
        "df[\"Berat Badan\"] = df[\"Berat Badan\"].astype(float).fillna(df[\"Berat Badan\"].mean())\n",
        "# Mengisi nilai yang hilang dengan \"Unknown\" untuk kolom kategorikal\n",
        "df[\"Hobi\"] = df[\"Hobi\"].fillna(\"Unknown\")\n",
        "df[\"JENIS KENDARAAN\"] = df[\"JENIS KENDARAAN\"].fillna(\"Unknown\")"
      ],
      "metadata": {
        "id": "CTXEkO9-OWvM"
      },
      "execution_count": 15,
      "outputs": []
    },
    {
      "cell_type": "code",
      "source": [
        "label_enc = LabelEncoder()\n",
        "df[\"Hobi\"] = label_enc.fit_transform(df[\"Hobi\"])\n",
        "df[\"JENIS KENDARAAN\"] = label_enc.fit_transform(df[\"JENIS KENDARAAN\"])"
      ],
      "metadata": {
        "id": "eIZD5aKwOaL2"
      },
      "execution_count": 16,
      "outputs": []
    },
    {
      "cell_type": "code",
      "source": [
        "X = df[[\"Tinggi Badan\", \"Berat Badan\", \"JENIS KENDARAAN\"]]\n",
        "y = label_enc.fit_transform(df[\"Hobi\"])"
      ],
      "metadata": {
        "id": "HkcKWloiOc9F"
      },
      "execution_count": 52,
      "outputs": []
    },
    {
      "cell_type": "code",
      "source": [
        "scaler = StandardScaler()\n",
        "X = scaler.fit_transform(X)"
      ],
      "metadata": {
        "id": "OzomSqo9OfLf"
      },
      "execution_count": 53,
      "outputs": []
    },
    {
      "cell_type": "code",
      "source": [
        "X_train, X_test, y_train, y_test = train_test_split(X, y, test_size=0.3, random_state=42)"
      ],
      "metadata": {
        "id": "pQZuL5YaOhpp"
      },
      "execution_count": 54,
      "outputs": []
    },
    {
      "cell_type": "code",
      "source": [
        "from sklearn.tree import DecisionTreeClassifier\n",
        "from sklearn.metrics import accuracy_score"
      ],
      "metadata": {
        "id": "sR49iuiwO66J"
      },
      "execution_count": 55,
      "outputs": []
    },
    {
      "cell_type": "code",
      "source": [
        "dt_classifier = DecisionTreeClassifier(random_state=42)\n",
        "dt_classifier.fit(X_train, y_train)"
      ],
      "metadata": {
        "colab": {
          "base_uri": "https://localhost:8080/",
          "height": 75
        },
        "id": "WSqO7qUqO9pQ",
        "outputId": "3a62c35a-7635-466f-ea28-08b868676561"
      },
      "execution_count": 56,
      "outputs": [
        {
          "output_type": "execute_result",
          "data": {
            "text/plain": [
              "DecisionTreeClassifier(random_state=42)"
            ],
            "text/html": [
              "<style>#sk-container-id-7 {color: black;background-color: white;}#sk-container-id-7 pre{padding: 0;}#sk-container-id-7 div.sk-toggleable {background-color: white;}#sk-container-id-7 label.sk-toggleable__label {cursor: pointer;display: block;width: 100%;margin-bottom: 0;padding: 0.3em;box-sizing: border-box;text-align: center;}#sk-container-id-7 label.sk-toggleable__label-arrow:before {content: \"▸\";float: left;margin-right: 0.25em;color: #696969;}#sk-container-id-7 label.sk-toggleable__label-arrow:hover:before {color: black;}#sk-container-id-7 div.sk-estimator:hover label.sk-toggleable__label-arrow:before {color: black;}#sk-container-id-7 div.sk-toggleable__content {max-height: 0;max-width: 0;overflow: hidden;text-align: left;background-color: #f0f8ff;}#sk-container-id-7 div.sk-toggleable__content pre {margin: 0.2em;color: black;border-radius: 0.25em;background-color: #f0f8ff;}#sk-container-id-7 input.sk-toggleable__control:checked~div.sk-toggleable__content {max-height: 200px;max-width: 100%;overflow: auto;}#sk-container-id-7 input.sk-toggleable__control:checked~label.sk-toggleable__label-arrow:before {content: \"▾\";}#sk-container-id-7 div.sk-estimator input.sk-toggleable__control:checked~label.sk-toggleable__label {background-color: #d4ebff;}#sk-container-id-7 div.sk-label input.sk-toggleable__control:checked~label.sk-toggleable__label {background-color: #d4ebff;}#sk-container-id-7 input.sk-hidden--visually {border: 0;clip: rect(1px 1px 1px 1px);clip: rect(1px, 1px, 1px, 1px);height: 1px;margin: -1px;overflow: hidden;padding: 0;position: absolute;width: 1px;}#sk-container-id-7 div.sk-estimator {font-family: monospace;background-color: #f0f8ff;border: 1px dotted black;border-radius: 0.25em;box-sizing: border-box;margin-bottom: 0.5em;}#sk-container-id-7 div.sk-estimator:hover {background-color: #d4ebff;}#sk-container-id-7 div.sk-parallel-item::after {content: \"\";width: 100%;border-bottom: 1px solid gray;flex-grow: 1;}#sk-container-id-7 div.sk-label:hover label.sk-toggleable__label {background-color: #d4ebff;}#sk-container-id-7 div.sk-serial::before {content: \"\";position: absolute;border-left: 1px solid gray;box-sizing: border-box;top: 0;bottom: 0;left: 50%;z-index: 0;}#sk-container-id-7 div.sk-serial {display: flex;flex-direction: column;align-items: center;background-color: white;padding-right: 0.2em;padding-left: 0.2em;position: relative;}#sk-container-id-7 div.sk-item {position: relative;z-index: 1;}#sk-container-id-7 div.sk-parallel {display: flex;align-items: stretch;justify-content: center;background-color: white;position: relative;}#sk-container-id-7 div.sk-item::before, #sk-container-id-7 div.sk-parallel-item::before {content: \"\";position: absolute;border-left: 1px solid gray;box-sizing: border-box;top: 0;bottom: 0;left: 50%;z-index: -1;}#sk-container-id-7 div.sk-parallel-item {display: flex;flex-direction: column;z-index: 1;position: relative;background-color: white;}#sk-container-id-7 div.sk-parallel-item:first-child::after {align-self: flex-end;width: 50%;}#sk-container-id-7 div.sk-parallel-item:last-child::after {align-self: flex-start;width: 50%;}#sk-container-id-7 div.sk-parallel-item:only-child::after {width: 0;}#sk-container-id-7 div.sk-dashed-wrapped {border: 1px dashed gray;margin: 0 0.4em 0.5em 0.4em;box-sizing: border-box;padding-bottom: 0.4em;background-color: white;}#sk-container-id-7 div.sk-label label {font-family: monospace;font-weight: bold;display: inline-block;line-height: 1.2em;}#sk-container-id-7 div.sk-label-container {text-align: center;}#sk-container-id-7 div.sk-container {/* jupyter's `normalize.less` sets `[hidden] { display: none; }` but bootstrap.min.css set `[hidden] { display: none !important; }` so we also need the `!important` here to be able to override the default hidden behavior on the sphinx rendered scikit-learn.org. See: https://github.com/scikit-learn/scikit-learn/issues/21755 */display: inline-block !important;position: relative;}#sk-container-id-7 div.sk-text-repr-fallback {display: none;}</style><div id=\"sk-container-id-7\" class=\"sk-top-container\"><div class=\"sk-text-repr-fallback\"><pre>DecisionTreeClassifier(random_state=42)</pre><b>In a Jupyter environment, please rerun this cell to show the HTML representation or trust the notebook. <br />On GitHub, the HTML representation is unable to render, please try loading this page with nbviewer.org.</b></div><div class=\"sk-container\" hidden><div class=\"sk-item\"><div class=\"sk-estimator sk-toggleable\"><input class=\"sk-toggleable__control sk-hidden--visually\" id=\"sk-estimator-id-7\" type=\"checkbox\" checked><label for=\"sk-estimator-id-7\" class=\"sk-toggleable__label sk-toggleable__label-arrow\">DecisionTreeClassifier</label><div class=\"sk-toggleable__content\"><pre>DecisionTreeClassifier(random_state=42)</pre></div></div></div></div></div>"
            ]
          },
          "metadata": {},
          "execution_count": 56
        }
      ]
    },
    {
      "cell_type": "code",
      "source": [
        "dt_predictions = dt_classifier.predict(X_test)"
      ],
      "metadata": {
        "id": "aBhHbq4wO_3u"
      },
      "execution_count": 57,
      "outputs": []
    },
    {
      "cell_type": "code",
      "source": [
        "dt_accuracy = accuracy_score(y_test, dt_predictions)\n",
        "print(f\"Decision Tree Accuracy: {dt_accuracy}\")"
      ],
      "metadata": {
        "colab": {
          "base_uri": "https://localhost:8080/"
        },
        "id": "6Qqgo4M3PCgp",
        "outputId": "096637b6-484e-4eaa-a6aa-b3321d05d78a"
      },
      "execution_count": 58,
      "outputs": [
        {
          "output_type": "stream",
          "name": "stdout",
          "text": [
            "Decision Tree Accuracy: 0.4444444444444444\n"
          ]
        }
      ]
    },
    {
      "cell_type": "code",
      "source": [
        "from sklearn.neighbors import KNeighborsClassifier"
      ],
      "metadata": {
        "id": "gl1FlMVpPjts"
      },
      "execution_count": 59,
      "outputs": []
    },
    {
      "cell_type": "code",
      "source": [
        "def evaluate_knn(X_train, X_test, y_train, y_test, metric):\n",
        "    k_values = range(1, 11)\n",
        "    accuracies = []\n",
        "    for k in k_values:\n",
        "        knn_classifier = KNeighborsClassifier(n_neighbors=k, metric=metric)\n",
        "        knn_classifier.fit(X_train, y_train)\n",
        "        knn_predictions = knn_classifier.predict(X_test)\n",
        "        knn_accuracy = accuracy_score(y_test, knn_predictions)\n",
        "        accuracies.append(knn_accuracy)\n",
        "        print(f\"K={k}, Distance Metric={metric}, Accuracy={knn_accuracy}\")\n",
        "    return accuracies"
      ],
      "metadata": {
        "id": "3oFGlAjKPm-y"
      },
      "execution_count": 60,
      "outputs": []
    },
    {
      "cell_type": "code",
      "source": [
        "# Evaluasi KNN dengan Minkowski Distance\n",
        "print(\"Evaluating KNN dengan Minkowski Distance:\")\n",
        "minkowski_accuracies = evaluate_knn(X_train, X_test, y_train, y_test, metric='minkowski')\n",
        "# Evaluasi KNN dengan Euclidean Distance\n",
        "print(\"\\nEvaluating KNN dengan Euclidean Distance:\")\n",
        "euclidean_accuracies = evaluate_knn(X_train, X_test, y_train, y_test, metric='euclidean')"
      ],
      "metadata": {
        "colab": {
          "base_uri": "https://localhost:8080/"
        },
        "id": "nFKRh2tpP2so",
        "outputId": "2f81226e-4000-4cd8-91a1-81cf73a45d5d"
      },
      "execution_count": 62,
      "outputs": [
        {
          "output_type": "stream",
          "name": "stdout",
          "text": [
            "Evaluating KNN dengan Minkowski Distance:\n",
            "K=1, Distance Metric=minkowski, Accuracy=0.4444444444444444\n",
            "K=2, Distance Metric=minkowski, Accuracy=0.5555555555555556\n",
            "K=3, Distance Metric=minkowski, Accuracy=0.4444444444444444\n",
            "K=4, Distance Metric=minkowski, Accuracy=0.5555555555555556\n",
            "K=5, Distance Metric=minkowski, Accuracy=0.5555555555555556\n",
            "K=6, Distance Metric=minkowski, Accuracy=0.5555555555555556\n",
            "K=7, Distance Metric=minkowski, Accuracy=0.4444444444444444\n",
            "K=8, Distance Metric=minkowski, Accuracy=0.3333333333333333\n",
            "K=9, Distance Metric=minkowski, Accuracy=0.2222222222222222\n",
            "K=10, Distance Metric=minkowski, Accuracy=0.3333333333333333\n",
            "\n",
            "Evaluating KNN dengan Euclidean Distance:\n",
            "K=1, Distance Metric=euclidean, Accuracy=0.4444444444444444\n",
            "K=2, Distance Metric=euclidean, Accuracy=0.5555555555555556\n",
            "K=3, Distance Metric=euclidean, Accuracy=0.4444444444444444\n",
            "K=4, Distance Metric=euclidean, Accuracy=0.5555555555555556\n",
            "K=5, Distance Metric=euclidean, Accuracy=0.5555555555555556\n",
            "K=6, Distance Metric=euclidean, Accuracy=0.5555555555555556\n",
            "K=7, Distance Metric=euclidean, Accuracy=0.4444444444444444\n",
            "K=8, Distance Metric=euclidean, Accuracy=0.3333333333333333\n",
            "K=9, Distance Metric=euclidean, Accuracy=0.2222222222222222\n",
            "K=10, Distance Metric=euclidean, Accuracy=0.3333333333333333\n"
          ]
        }
      ]
    }
  ]
}