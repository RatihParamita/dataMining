{
  "nbformat": 4,
  "nbformat_minor": 0,
  "metadata": {
    "colab": {
      "provenance": [],
      "authorship_tag": "ABX9TyPvRFdVBnHbkMYIzAmPD/GY",
      "include_colab_link": true
    },
    "kernelspec": {
      "name": "python3",
      "display_name": "Python 3"
    },
    "language_info": {
      "name": "python"
    }
  },
  "cells": [
    {
      "cell_type": "markdown",
      "metadata": {
        "id": "view-in-github",
        "colab_type": "text"
      },
      "source": [
        "<a href=\"https://colab.research.google.com/github/RatihParamita/dataMining/blob/main/Latihan1Week14.ipynb\" target=\"_parent\"><img src=\"https://colab.research.google.com/assets/colab-badge.svg\" alt=\"Open In Colab\"/></a>"
      ]
    },
    {
      "cell_type": "code",
      "execution_count": 1,
      "metadata": {
        "colab": {
          "base_uri": "https://localhost:8080/"
        },
        "id": "89u-Dyfn9Dzi",
        "outputId": "b95ed479-a279-40a5-80bc-af0de70da732"
      },
      "outputs": [
        {
          "output_type": "stream",
          "name": "stdout",
          "text": [
            "Collecting spotipy\n",
            "  Downloading spotipy-2.24.0-py3-none-any.whl (30 kB)\n",
            "Collecting redis>=3.5.3 (from spotipy)\n",
            "  Downloading redis-5.0.4-py3-none-any.whl (251 kB)\n",
            "\u001b[2K     \u001b[90m━━━━━━━━━━━━━━━━━━━━━━━━━━━━━━━━━━━━━━━━\u001b[0m \u001b[32m252.0/252.0 kB\u001b[0m \u001b[31m3.4 MB/s\u001b[0m eta \u001b[36m0:00:00\u001b[0m\n",
            "\u001b[?25hRequirement already satisfied: requests>=2.25.0 in /usr/local/lib/python3.10/dist-packages (from spotipy) (2.31.0)\n",
            "Requirement already satisfied: urllib3>=1.26.0 in /usr/local/lib/python3.10/dist-packages (from spotipy) (2.0.7)\n",
            "Requirement already satisfied: async-timeout>=4.0.3 in /usr/local/lib/python3.10/dist-packages (from redis>=3.5.3->spotipy) (4.0.3)\n",
            "Requirement already satisfied: charset-normalizer<4,>=2 in /usr/local/lib/python3.10/dist-packages (from requests>=2.25.0->spotipy) (3.3.2)\n",
            "Requirement already satisfied: idna<4,>=2.5 in /usr/local/lib/python3.10/dist-packages (from requests>=2.25.0->spotipy) (3.7)\n",
            "Requirement already satisfied: certifi>=2017.4.17 in /usr/local/lib/python3.10/dist-packages (from requests>=2.25.0->spotipy) (2024.2.2)\n",
            "Installing collected packages: redis, spotipy\n",
            "Successfully installed redis-5.0.4 spotipy-2.24.0\n"
          ]
        }
      ],
      "source": [
        "!pip install spotipy"
      ]
    },
    {
      "cell_type": "code",
      "source": [
        "import spotipy\n",
        "from spotipy.oauth2 import SpotifyClientCredentials\n",
        "from sklearn.cluster import KMeans\n",
        "import pandas as pd"
      ],
      "metadata": {
        "id": "GKMcvCfNf2HO"
      },
      "execution_count": 2,
      "outputs": []
    },
    {
      "cell_type": "code",
      "source": [
        "# Inisialisasi koneksi dengan Spotify API\n",
        "client_credentials_manager = SpotifyClientCredentials(client_id='400afd1a8ae34360a3629f55686b8155', client_secret='a6164a6cfaef4a8c86aa9b491f9f8f14')\n",
        "sp = spotipy.Spotify(client_credentials_manager=client_credentials_manager)"
      ],
      "metadata": {
        "id": "AXqgtAMdgQEH"
      },
      "execution_count": 6,
      "outputs": []
    },
    {
      "cell_type": "code",
      "source": [
        "# Fungsi untuk mendapatkan track playlist dari Spotify\n",
        "def get_playlist_tracks(username, playlist_id):\n",
        " results = sp.user_playlist_tracks(username, playlist_id)\n",
        " tracks = results['items']\n",
        " while results['next']:\n",
        "  results = sp.next(results)\n",
        "  tracks.extend(results['items'])\n",
        " return tracks\n",
        "# Fungsi untuk mendapatkan fitur audio dari playlist\n",
        "def get_audio_features(tracks):\n",
        " ids = [track['track']['id'] for track in tracks]\n",
        " features = sp.audio_features(ids)\n",
        " return features"
      ],
      "metadata": {
        "id": "_tz97Y-FgtIx"
      },
      "execution_count": 7,
      "outputs": []
    },
    {
      "cell_type": "code",
      "source": [
        "# Mengambil Playlist spotify\n",
        "username = 'hi63ctfn4m98iensfx8ebkcxs'\n",
        "playlist_id = '0CSpbbSsJ5RSiyaSJhi48W'\n",
        "tracks = get_playlist_tracks(username, playlist_id)\n",
        "# Mengambil fitur audio untuk lagu-lagu dari playlist\n",
        "features = get_audio_features(tracks)\n",
        "# Ekstrak nama seluruh lagu\n",
        "track_names = [track['track']['name'] for track in tracks]\n",
        "# Membuat DataFrame dari nama lagu dan fitur audio\n",
        "df = pd.DataFrame(features)\n",
        "df['track_name'] = track_names # tambahkan nama lagu ke DataFrame"
      ],
      "metadata": {
        "id": "0WtjI9xghol5"
      },
      "execution_count": 8,
      "outputs": []
    },
    {
      "cell_type": "code",
      "source": [
        "# Ambil fitur yang dibutuhkan untuk clustering\n",
        "X = df[['acousticness', 'danceability', 'energy', 'instrumentalness', 'loudness', 'speechiness', 'tempo', 'valence']]\n",
        "# Isikan jumlah cluster\n",
        "n_clusters = 5\n",
        "# Buat Model KMeans\n",
        "kmeans = KMeans(n_clusters=n_clusters)\n",
        "# Train model KMeans\n",
        "kmeans.fit(X)\n",
        "# Ambil label cluster\n",
        "labels = kmeans.labels_\n",
        "# tambahkan label cluster ke DataFrame\n",
        "df['cluster'] = labels\n",
        "# Tamplilkan lagu untuk tiap cluster cluster\n",
        "for cluster_id in range(n_clusters):\n",
        " cluster_songs = df[df['cluster'] == cluster_id]['track_name']\n",
        " print(f'Cluster {cluster_id + 1} Songs:')\n",
        " print(cluster_songs)\n",
        " print()"
      ],
      "metadata": {
        "colab": {
          "base_uri": "https://localhost:8080/"
        },
        "id": "g4UjFHEIlsBw",
        "outputId": "422674ca-1716-49cd-f7b3-ceffde58b028"
      },
      "execution_count": 9,
      "outputs": [
        {
          "output_type": "stream",
          "name": "stdout",
          "text": [
            "Cluster 1 Songs:\n",
            "1     we can't be friends (wait for your love)\n",
            "12             There's Nothing Holdin' Me Back\n",
            "15                                Sweet Melody\n",
            "17                         Haven't Met You Yet\n",
            "18                           Rewrite The Stars\n",
            "19                                     Someday\n",
            "Name: track_name, dtype: object\n",
            "\n",
            "Cluster 2 Songs:\n",
            "2                                       Sorry Not Sorry\n",
            "5                                 Can I Have This Dance\n",
            "6     Honey, Honey - From 'Mamma Mia!' Original Moti...\n",
            "13                                  Leave The Door Open\n",
            "Name: track_name, dtype: object\n",
            "\n",
            "Cluster 3 Songs:\n",
            "0                                                 Style\n",
            "4     Bellas Finals: Price Tag/Don’t You (Forget Abo...\n",
            "7                                          Without Love\n",
            "10            I Dreamed A Dream - From \"Les Misérables\"\n",
            "14                                         Sledgehammer\n",
            "16                                              Perfect\n",
            "Name: track_name, dtype: object\n",
            "\n",
            "Cluster 4 Songs:\n",
            "3           Somewhere Only We Know (feat. Darren Criss)\n",
            "9                                              Helpless\n",
            "11    Seventeen (feat. Lili Reinhart, Cole Sprouse, ...\n",
            "Name: track_name, dtype: object\n",
            "\n",
            "Cluster 5 Songs:\n",
            "8    Wish You Were Here\n",
            "Name: track_name, dtype: object\n",
            "\n"
          ]
        },
        {
          "output_type": "stream",
          "name": "stderr",
          "text": [
            "/usr/local/lib/python3.10/dist-packages/sklearn/cluster/_kmeans.py:870: FutureWarning: The default value of `n_init` will change from 10 to 'auto' in 1.4. Set the value of `n_init` explicitly to suppress the warning\n",
            "  warnings.warn(\n"
          ]
        }
      ]
    }
  ]
}