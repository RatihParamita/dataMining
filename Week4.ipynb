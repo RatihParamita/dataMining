{
  "nbformat": 4,
  "nbformat_minor": 0,
  "metadata": {
    "colab": {
      "provenance": [],
      "authorship_tag": "ABX9TyPQ8W8whHn01L+eT4nhAmOK",
      "include_colab_link": true
    },
    "kernelspec": {
      "name": "python3",
      "display_name": "Python 3"
    },
    "language_info": {
      "name": "python"
    }
  },
  "cells": [
    {
      "cell_type": "markdown",
      "metadata": {
        "id": "view-in-github",
        "colab_type": "text"
      },
      "source": [
        "<a href=\"https://colab.research.google.com/github/RatihParamita/dataMining/blob/main/Week4.ipynb\" target=\"_parent\"><img src=\"https://colab.research.google.com/assets/colab-badge.svg\" alt=\"Open In Colab\"/></a>"
      ]
    },
    {
      "cell_type": "code",
      "execution_count": 1,
      "metadata": {
        "id": "sDDFMscat5rn"
      },
      "outputs": [],
      "source": [
        "#import dependencies\n",
        "\n",
        "import pandas as pd\n",
        "\n",
        "import numpy as np\n",
        "\n",
        "import plotly.express as px"
      ]
    },
    {
      "cell_type": "code",
      "source": [
        "#load the data into a dataframe\n",
        "\n",
        "df = pd.read_csv(‘uber.csv’)\n",
        "\n",
        "#check the first 5 rows\n",
        "\n",
        "df.head()"
      ],
      "metadata": {
        "id": "PvLD2eWDuMXW"
      },
      "execution_count": null,
      "outputs": []
    },
    {
      "cell_type": "code",
      "source": [
        "#drop the unnecessary columns\n",
        "\n",
        "df = df.drop(columns=([‘pickup_longitude’, ‘pickup_latitude’, ‘dropoff_longitude’, ‘dropoff_latitude’]))\n",
        "df.head()"
      ],
      "metadata": {
        "id": "fx9cGeSdujy6"
      },
      "execution_count": null,
      "outputs": []
    },
    {
      "cell_type": "code",
      "source": [
        "df.describe()[[‘fare_amount’, ‘passenger_count’]]\n",
        "df.describe()"
      ],
      "metadata": {
        "id": "OpaPotXBy7UB"
      },
      "execution_count": null,
      "outputs": []
    },
    {
      "cell_type": "code",
      "source": [
        "#create a histogram\n",
        "\n",
        "fig = px.histogram(df, x=’fare_amount’)\n",
        "\n",
        "fig.show()"
      ],
      "metadata": {
        "id": "ITtsxYEIy-nM"
      },
      "execution_count": null,
      "outputs": []
    },
    {
      "cell_type": "code",
      "source": [
        "#create a box plot\n",
        "\n",
        "fig = px.box(df, y=”fare_amount”)\n",
        "\n",
        "fig.show()"
      ],
      "metadata": {
        "id": "u6ZWNAFIzC9B"
      },
      "execution_count": null,
      "outputs": []
    },
    {
      "cell_type": "code",
      "source": [
        "fig = px.scatter(x=df[‘passenger_count’], y=df[‘fare_amount’])\n",
        "\n",
        "fig.show()"
      ],
      "metadata": {
        "id": "u7c5pDbkzFNi"
      },
      "execution_count": null,
      "outputs": []
    },
    {
      "cell_type": "code",
      "source": [
        "#create a function to find outliers using IQR\n",
        "\n",
        "def find_outliers_IQR(df):\n",
        "\n",
        "   q1=df.quantile(0.25)\n",
        "\n",
        "   q3=df.quantile(0.75)\n",
        "\n",
        "   IQR=q3-q1\n",
        "\n",
        "   outliers = df[((df<(q1-1.5*IQR)) | (df>(q3+1.5*IQR)))]\n",
        "\n",
        "   return outliers"
      ],
      "metadata": {
        "id": "7S92FG4_zJGr"
      },
      "execution_count": null,
      "outputs": []
    },
    {
      "cell_type": "code",
      "source": [
        "outliers = find_outliers_IQR(df[“fare_amount”])\n",
        "\n",
        "print(“number of outliers: “+ str(len(outliers)))\n",
        "\n",
        "print(“max outlier value: “+ str(outliers.max()))\n",
        "\n",
        "print(“min outlier value: “+ str(outliers.min()))\n",
        "outlier"
      ],
      "metadata": {
        "id": "lPRJosuBzPeb"
      },
      "execution_count": null,
      "outputs": []
    },
    {
      "cell_type": "code",
      "source": [
        "outliers = find_outliers_IQR(df[[“passenger_count”,”fare_amount”]])\n",
        "outlier"
      ],
      "metadata": {
        "id": "PMR0DpEWzS7q"
      },
      "execution_count": null,
      "outputs": []
    },
    {
      "cell_type": "code",
      "source": [
        "def drop_outliers_IQR(df):\n",
        "\n",
        "   q1=df.quantile(0.25)\n",
        "\n",
        "   q3=df.quantile(0.75)\n",
        "\n",
        "   IQR=q3-q1\n",
        "\n",
        "   not_outliers = df[~((df<(q1-1.5*IQR)) | (df>(q3+1.5*IQR)))]\n",
        "\n",
        "   outliers_dropped = outliers.dropna().reset_index()\n",
        "\n",
        "   return outliers_dropped"
      ],
      "metadata": {
        "id": "-Y_jSkDDzalH"
      },
      "execution_count": null,
      "outputs": []
    },
    {
      "cell_type": "code",
      "source": [
        "upper_limit = df[‘fare_amount’].mean() + 3*df[‘fare_amount’].std()\n",
        "\n",
        "print(upper_limit)\n",
        "\n",
        "lower_limit = df[‘fare_amount’].mean() – 3*df[‘fare_amount’].std()\n",
        "\n",
        "print(lower_limit)"
      ],
      "metadata": {
        "id": "DMj3BZZQzem0"
      },
      "execution_count": null,
      "outputs": []
    },
    {
      "cell_type": "code",
      "source": [
        "df[‘fare_amount’] = np.where(df[‘fare_amount’] > upper_limit,\n",
        "\n",
        "   upper_limit,\n",
        "\n",
        "   np.where(\n",
        "\n",
        "       df[‘fare_amount’] < lower_limit,\n",
        "\n",
        "       lower_limit,\n",
        "\n",
        "       df[‘fare_amount’]\n",
        "\n",
        "   )\n",
        "\n",
        ")"
      ],
      "metadata": {
        "id": "u7c3rJetzfQ0"
      },
      "execution_count": null,
      "outputs": []
    },
    {
      "cell_type": "code",
      "source": [
        "def impute_outliers_IQR(df):\n",
        "\n",
        "   q1=df.quantile(0.25)\n",
        "\n",
        "   q3=df.quantile(0.75)\n",
        "\n",
        "   IQR=q3-q1\n",
        "\n",
        "   upper = df[~(df>(q3+1.5*IQR))].max()\n",
        "\n",
        "   lower = df[~(df<(q1-1.5*IQR))].min()\n",
        "\n",
        "   df = np.where(df > upper,\n",
        "\n",
        "       df.mean(),\n",
        "\n",
        "       np.where(\n",
        "\n",
        "           df < lower,\n",
        "\n",
        "           df.mean(),\n",
        "\n",
        "           df\n",
        "\n",
        "           )\n",
        "\n",
        "       )\n",
        "\n",
        "   return df"
      ],
      "metadata": {
        "id": "g1K3SmqOzjPi"
      },
      "execution_count": null,
      "outputs": []
    },
    {
      "cell_type": "code",
      "source": [
        "df[‘fare_amount’] = impute_outliers_IQR(df[‘fare_amount’])\n",
        "\n",
        "df.describe()[‘fare_amount’]"
      ],
      "metadata": {
        "id": "6IUPnmMjznCp"
      },
      "execution_count": null,
      "outputs": []
    },
    {
      "cell_type": "code",
      "source": [],
      "metadata": {
        "id": "DvNC_cXxzpFu"
      },
      "execution_count": null,
      "outputs": []
    }
  ]
}