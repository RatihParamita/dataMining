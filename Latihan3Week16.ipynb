{
  "nbformat": 4,
  "nbformat_minor": 0,
  "metadata": {
    "colab": {
      "provenance": [],
      "authorship_tag": "ABX9TyMTNF0lDXZ7MNMjIKOy8Aid",
      "include_colab_link": true
    },
    "kernelspec": {
      "name": "python3",
      "display_name": "Python 3"
    },
    "language_info": {
      "name": "python"
    }
  },
  "cells": [
    {
      "cell_type": "markdown",
      "metadata": {
        "id": "view-in-github",
        "colab_type": "text"
      },
      "source": [
        "<a href=\"https://colab.research.google.com/github/RatihParamita/dataMining/blob/main/Latihan3Week16.ipynb\" target=\"_parent\"><img src=\"https://colab.research.google.com/assets/colab-badge.svg\" alt=\"Open In Colab\"/></a>"
      ]
    },
    {
      "cell_type": "code",
      "execution_count": 1,
      "metadata": {
        "id": "_2_EeQST6r49"
      },
      "outputs": [],
      "source": [
        "# Import required libraries\n",
        "import pandas as pd\n",
        "import numpy as np\n",
        "from sklearn.preprocessing import StandardScaler, OneHotEncoder\n",
        "\n",
        "# Import necessary modules\n",
        "from sklearn.model_selection import train_test_split\n",
        "from sklearn.metrics import accuracy_score"
      ]
    },
    {
      "cell_type": "code",
      "source": [
        "df = pd.read_csv('Dataset Valentine.csv')\n",
        "print(df.shape)\n",
        "df.describe(include='all').transpose()"
      ],
      "metadata": {
        "colab": {
          "base_uri": "https://localhost:8080/",
          "height": 435
        },
        "id": "aDX1Cy3z7X2o",
        "outputId": "2eae0b79-96a3-4489-bbf3-cb95d851545a"
      },
      "execution_count": 2,
      "outputs": [
        {
          "output_type": "stream",
          "name": "stdout",
          "text": [
            "(20000, 10)\n"
          ]
        },
        {
          "output_type": "execute_result",
          "data": {
            "text/plain": [
              "                      count unique              top   freq         mean  \\\n",
              "Name                  20000  17795  Michael Johnson     13          NaN   \n",
              "Age                 20000.0    NaN              NaN    NaN      29.0338   \n",
              "Gender                20000      2             Male  10047          NaN   \n",
              "Income              20000.0    NaN              NaN    NaN  50051.03415   \n",
              "Appearance_Score    20000.0    NaN              NaN    NaN    50.136727   \n",
              "Interests_Score     20000.0    NaN              NaN    NaN    49.950643   \n",
              "Confidence_Score    20000.0    NaN              NaN    NaN    49.913995   \n",
              "Educational_Status    20000      4      High School   5107          NaN   \n",
              "Job_Type              20000      2         Employed  10014          NaN   \n",
              "Valentine_Date      20000.0    NaN              NaN    NaN       0.4933   \n",
              "\n",
              "                             std      min       25%      50%      75%      max  \n",
              "Name                         NaN      NaN       NaN      NaN      NaN      NaN  \n",
              "Age                     6.622458     18.0      23.0     29.0     35.0     40.0  \n",
              "Gender                       NaN      NaN       NaN      NaN      NaN      NaN  \n",
              "Income              17329.779354  20004.0  35013.25  50230.0  65120.5  79998.0  \n",
              "Appearance_Score       28.877615      0.0     25.07    50.32  75.2225    99.99  \n",
              "Interests_Score         28.77412     0.01     25.31    49.53    74.88    100.0  \n",
              "Confidence_Score       28.978751     0.01   24.8075    49.96    74.95    100.0  \n",
              "Educational_Status           NaN      NaN       NaN      NaN      NaN      NaN  \n",
              "Job_Type                     NaN      NaN       NaN      NaN      NaN      NaN  \n",
              "Valentine_Date          0.499968      0.0       0.0      0.0      1.0      1.0  "
            ],
            "text/html": [
              "\n",
              "  <div id=\"df-d60bb292-a879-4fb2-87ff-390b753943bc\" class=\"colab-df-container\">\n",
              "    <div>\n",
              "<style scoped>\n",
              "    .dataframe tbody tr th:only-of-type {\n",
              "        vertical-align: middle;\n",
              "    }\n",
              "\n",
              "    .dataframe tbody tr th {\n",
              "        vertical-align: top;\n",
              "    }\n",
              "\n",
              "    .dataframe thead th {\n",
              "        text-align: right;\n",
              "    }\n",
              "</style>\n",
              "<table border=\"1\" class=\"dataframe\">\n",
              "  <thead>\n",
              "    <tr style=\"text-align: right;\">\n",
              "      <th></th>\n",
              "      <th>count</th>\n",
              "      <th>unique</th>\n",
              "      <th>top</th>\n",
              "      <th>freq</th>\n",
              "      <th>mean</th>\n",
              "      <th>std</th>\n",
              "      <th>min</th>\n",
              "      <th>25%</th>\n",
              "      <th>50%</th>\n",
              "      <th>75%</th>\n",
              "      <th>max</th>\n",
              "    </tr>\n",
              "  </thead>\n",
              "  <tbody>\n",
              "    <tr>\n",
              "      <th>Name</th>\n",
              "      <td>20000</td>\n",
              "      <td>17795</td>\n",
              "      <td>Michael Johnson</td>\n",
              "      <td>13</td>\n",
              "      <td>NaN</td>\n",
              "      <td>NaN</td>\n",
              "      <td>NaN</td>\n",
              "      <td>NaN</td>\n",
              "      <td>NaN</td>\n",
              "      <td>NaN</td>\n",
              "      <td>NaN</td>\n",
              "    </tr>\n",
              "    <tr>\n",
              "      <th>Age</th>\n",
              "      <td>20000.0</td>\n",
              "      <td>NaN</td>\n",
              "      <td>NaN</td>\n",
              "      <td>NaN</td>\n",
              "      <td>29.0338</td>\n",
              "      <td>6.622458</td>\n",
              "      <td>18.0</td>\n",
              "      <td>23.0</td>\n",
              "      <td>29.0</td>\n",
              "      <td>35.0</td>\n",
              "      <td>40.0</td>\n",
              "    </tr>\n",
              "    <tr>\n",
              "      <th>Gender</th>\n",
              "      <td>20000</td>\n",
              "      <td>2</td>\n",
              "      <td>Male</td>\n",
              "      <td>10047</td>\n",
              "      <td>NaN</td>\n",
              "      <td>NaN</td>\n",
              "      <td>NaN</td>\n",
              "      <td>NaN</td>\n",
              "      <td>NaN</td>\n",
              "      <td>NaN</td>\n",
              "      <td>NaN</td>\n",
              "    </tr>\n",
              "    <tr>\n",
              "      <th>Income</th>\n",
              "      <td>20000.0</td>\n",
              "      <td>NaN</td>\n",
              "      <td>NaN</td>\n",
              "      <td>NaN</td>\n",
              "      <td>50051.03415</td>\n",
              "      <td>17329.779354</td>\n",
              "      <td>20004.0</td>\n",
              "      <td>35013.25</td>\n",
              "      <td>50230.0</td>\n",
              "      <td>65120.5</td>\n",
              "      <td>79998.0</td>\n",
              "    </tr>\n",
              "    <tr>\n",
              "      <th>Appearance_Score</th>\n",
              "      <td>20000.0</td>\n",
              "      <td>NaN</td>\n",
              "      <td>NaN</td>\n",
              "      <td>NaN</td>\n",
              "      <td>50.136727</td>\n",
              "      <td>28.877615</td>\n",
              "      <td>0.0</td>\n",
              "      <td>25.07</td>\n",
              "      <td>50.32</td>\n",
              "      <td>75.2225</td>\n",
              "      <td>99.99</td>\n",
              "    </tr>\n",
              "    <tr>\n",
              "      <th>Interests_Score</th>\n",
              "      <td>20000.0</td>\n",
              "      <td>NaN</td>\n",
              "      <td>NaN</td>\n",
              "      <td>NaN</td>\n",
              "      <td>49.950643</td>\n",
              "      <td>28.77412</td>\n",
              "      <td>0.01</td>\n",
              "      <td>25.31</td>\n",
              "      <td>49.53</td>\n",
              "      <td>74.88</td>\n",
              "      <td>100.0</td>\n",
              "    </tr>\n",
              "    <tr>\n",
              "      <th>Confidence_Score</th>\n",
              "      <td>20000.0</td>\n",
              "      <td>NaN</td>\n",
              "      <td>NaN</td>\n",
              "      <td>NaN</td>\n",
              "      <td>49.913995</td>\n",
              "      <td>28.978751</td>\n",
              "      <td>0.01</td>\n",
              "      <td>24.8075</td>\n",
              "      <td>49.96</td>\n",
              "      <td>74.95</td>\n",
              "      <td>100.0</td>\n",
              "    </tr>\n",
              "    <tr>\n",
              "      <th>Educational_Status</th>\n",
              "      <td>20000</td>\n",
              "      <td>4</td>\n",
              "      <td>High School</td>\n",
              "      <td>5107</td>\n",
              "      <td>NaN</td>\n",
              "      <td>NaN</td>\n",
              "      <td>NaN</td>\n",
              "      <td>NaN</td>\n",
              "      <td>NaN</td>\n",
              "      <td>NaN</td>\n",
              "      <td>NaN</td>\n",
              "    </tr>\n",
              "    <tr>\n",
              "      <th>Job_Type</th>\n",
              "      <td>20000</td>\n",
              "      <td>2</td>\n",
              "      <td>Employed</td>\n",
              "      <td>10014</td>\n",
              "      <td>NaN</td>\n",
              "      <td>NaN</td>\n",
              "      <td>NaN</td>\n",
              "      <td>NaN</td>\n",
              "      <td>NaN</td>\n",
              "      <td>NaN</td>\n",
              "      <td>NaN</td>\n",
              "    </tr>\n",
              "    <tr>\n",
              "      <th>Valentine_Date</th>\n",
              "      <td>20000.0</td>\n",
              "      <td>NaN</td>\n",
              "      <td>NaN</td>\n",
              "      <td>NaN</td>\n",
              "      <td>0.4933</td>\n",
              "      <td>0.499968</td>\n",
              "      <td>0.0</td>\n",
              "      <td>0.0</td>\n",
              "      <td>0.0</td>\n",
              "      <td>1.0</td>\n",
              "      <td>1.0</td>\n",
              "    </tr>\n",
              "  </tbody>\n",
              "</table>\n",
              "</div>\n",
              "    <div class=\"colab-df-buttons\">\n",
              "\n",
              "  <div class=\"colab-df-container\">\n",
              "    <button class=\"colab-df-convert\" onclick=\"convertToInteractive('df-d60bb292-a879-4fb2-87ff-390b753943bc')\"\n",
              "            title=\"Convert this dataframe to an interactive table.\"\n",
              "            style=\"display:none;\">\n",
              "\n",
              "  <svg xmlns=\"http://www.w3.org/2000/svg\" height=\"24px\" viewBox=\"0 -960 960 960\">\n",
              "    <path d=\"M120-120v-720h720v720H120Zm60-500h600v-160H180v160Zm220 220h160v-160H400v160Zm0 220h160v-160H400v160ZM180-400h160v-160H180v160Zm440 0h160v-160H620v160ZM180-180h160v-160H180v160Zm440 0h160v-160H620v160Z\"/>\n",
              "  </svg>\n",
              "    </button>\n",
              "\n",
              "  <style>\n",
              "    .colab-df-container {\n",
              "      display:flex;\n",
              "      gap: 12px;\n",
              "    }\n",
              "\n",
              "    .colab-df-convert {\n",
              "      background-color: #E8F0FE;\n",
              "      border: none;\n",
              "      border-radius: 50%;\n",
              "      cursor: pointer;\n",
              "      display: none;\n",
              "      fill: #1967D2;\n",
              "      height: 32px;\n",
              "      padding: 0 0 0 0;\n",
              "      width: 32px;\n",
              "    }\n",
              "\n",
              "    .colab-df-convert:hover {\n",
              "      background-color: #E2EBFA;\n",
              "      box-shadow: 0px 1px 2px rgba(60, 64, 67, 0.3), 0px 1px 3px 1px rgba(60, 64, 67, 0.15);\n",
              "      fill: #174EA6;\n",
              "    }\n",
              "\n",
              "    .colab-df-buttons div {\n",
              "      margin-bottom: 4px;\n",
              "    }\n",
              "\n",
              "    [theme=dark] .colab-df-convert {\n",
              "      background-color: #3B4455;\n",
              "      fill: #D2E3FC;\n",
              "    }\n",
              "\n",
              "    [theme=dark] .colab-df-convert:hover {\n",
              "      background-color: #434B5C;\n",
              "      box-shadow: 0px 1px 3px 1px rgba(0, 0, 0, 0.15);\n",
              "      filter: drop-shadow(0px 1px 2px rgba(0, 0, 0, 0.3));\n",
              "      fill: #FFFFFF;\n",
              "    }\n",
              "  </style>\n",
              "\n",
              "    <script>\n",
              "      const buttonEl =\n",
              "        document.querySelector('#df-d60bb292-a879-4fb2-87ff-390b753943bc button.colab-df-convert');\n",
              "      buttonEl.style.display =\n",
              "        google.colab.kernel.accessAllowed ? 'block' : 'none';\n",
              "\n",
              "      async function convertToInteractive(key) {\n",
              "        const element = document.querySelector('#df-d60bb292-a879-4fb2-87ff-390b753943bc');\n",
              "        const dataTable =\n",
              "          await google.colab.kernel.invokeFunction('convertToInteractive',\n",
              "                                                    [key], {});\n",
              "        if (!dataTable) return;\n",
              "\n",
              "        const docLinkHtml = 'Like what you see? Visit the ' +\n",
              "          '<a target=\"_blank\" href=https://colab.research.google.com/notebooks/data_table.ipynb>data table notebook</a>'\n",
              "          + ' to learn more about interactive tables.';\n",
              "        element.innerHTML = '';\n",
              "        dataTable['output_type'] = 'display_data';\n",
              "        await google.colab.output.renderOutput(dataTable, element);\n",
              "        const docLink = document.createElement('div');\n",
              "        docLink.innerHTML = docLinkHtml;\n",
              "        element.appendChild(docLink);\n",
              "      }\n",
              "    </script>\n",
              "  </div>\n",
              "\n",
              "\n",
              "<div id=\"df-afdfc2d1-3b11-4648-bf5b-8987bc2c7711\">\n",
              "  <button class=\"colab-df-quickchart\" onclick=\"quickchart('df-afdfc2d1-3b11-4648-bf5b-8987bc2c7711')\"\n",
              "            title=\"Suggest charts\"\n",
              "            style=\"display:none;\">\n",
              "\n",
              "<svg xmlns=\"http://www.w3.org/2000/svg\" height=\"24px\"viewBox=\"0 0 24 24\"\n",
              "     width=\"24px\">\n",
              "    <g>\n",
              "        <path d=\"M19 3H5c-1.1 0-2 .9-2 2v14c0 1.1.9 2 2 2h14c1.1 0 2-.9 2-2V5c0-1.1-.9-2-2-2zM9 17H7v-7h2v7zm4 0h-2V7h2v10zm4 0h-2v-4h2v4z\"/>\n",
              "    </g>\n",
              "</svg>\n",
              "  </button>\n",
              "\n",
              "<style>\n",
              "  .colab-df-quickchart {\n",
              "      --bg-color: #E8F0FE;\n",
              "      --fill-color: #1967D2;\n",
              "      --hover-bg-color: #E2EBFA;\n",
              "      --hover-fill-color: #174EA6;\n",
              "      --disabled-fill-color: #AAA;\n",
              "      --disabled-bg-color: #DDD;\n",
              "  }\n",
              "\n",
              "  [theme=dark] .colab-df-quickchart {\n",
              "      --bg-color: #3B4455;\n",
              "      --fill-color: #D2E3FC;\n",
              "      --hover-bg-color: #434B5C;\n",
              "      --hover-fill-color: #FFFFFF;\n",
              "      --disabled-bg-color: #3B4455;\n",
              "      --disabled-fill-color: #666;\n",
              "  }\n",
              "\n",
              "  .colab-df-quickchart {\n",
              "    background-color: var(--bg-color);\n",
              "    border: none;\n",
              "    border-radius: 50%;\n",
              "    cursor: pointer;\n",
              "    display: none;\n",
              "    fill: var(--fill-color);\n",
              "    height: 32px;\n",
              "    padding: 0;\n",
              "    width: 32px;\n",
              "  }\n",
              "\n",
              "  .colab-df-quickchart:hover {\n",
              "    background-color: var(--hover-bg-color);\n",
              "    box-shadow: 0 1px 2px rgba(60, 64, 67, 0.3), 0 1px 3px 1px rgba(60, 64, 67, 0.15);\n",
              "    fill: var(--button-hover-fill-color);\n",
              "  }\n",
              "\n",
              "  .colab-df-quickchart-complete:disabled,\n",
              "  .colab-df-quickchart-complete:disabled:hover {\n",
              "    background-color: var(--disabled-bg-color);\n",
              "    fill: var(--disabled-fill-color);\n",
              "    box-shadow: none;\n",
              "  }\n",
              "\n",
              "  .colab-df-spinner {\n",
              "    border: 2px solid var(--fill-color);\n",
              "    border-color: transparent;\n",
              "    border-bottom-color: var(--fill-color);\n",
              "    animation:\n",
              "      spin 1s steps(1) infinite;\n",
              "  }\n",
              "\n",
              "  @keyframes spin {\n",
              "    0% {\n",
              "      border-color: transparent;\n",
              "      border-bottom-color: var(--fill-color);\n",
              "      border-left-color: var(--fill-color);\n",
              "    }\n",
              "    20% {\n",
              "      border-color: transparent;\n",
              "      border-left-color: var(--fill-color);\n",
              "      border-top-color: var(--fill-color);\n",
              "    }\n",
              "    30% {\n",
              "      border-color: transparent;\n",
              "      border-left-color: var(--fill-color);\n",
              "      border-top-color: var(--fill-color);\n",
              "      border-right-color: var(--fill-color);\n",
              "    }\n",
              "    40% {\n",
              "      border-color: transparent;\n",
              "      border-right-color: var(--fill-color);\n",
              "      border-top-color: var(--fill-color);\n",
              "    }\n",
              "    60% {\n",
              "      border-color: transparent;\n",
              "      border-right-color: var(--fill-color);\n",
              "    }\n",
              "    80% {\n",
              "      border-color: transparent;\n",
              "      border-right-color: var(--fill-color);\n",
              "      border-bottom-color: var(--fill-color);\n",
              "    }\n",
              "    90% {\n",
              "      border-color: transparent;\n",
              "      border-bottom-color: var(--fill-color);\n",
              "    }\n",
              "  }\n",
              "</style>\n",
              "\n",
              "  <script>\n",
              "    async function quickchart(key) {\n",
              "      const quickchartButtonEl =\n",
              "        document.querySelector('#' + key + ' button');\n",
              "      quickchartButtonEl.disabled = true;  // To prevent multiple clicks.\n",
              "      quickchartButtonEl.classList.add('colab-df-spinner');\n",
              "      try {\n",
              "        const charts = await google.colab.kernel.invokeFunction(\n",
              "            'suggestCharts', [key], {});\n",
              "      } catch (error) {\n",
              "        console.error('Error during call to suggestCharts:', error);\n",
              "      }\n",
              "      quickchartButtonEl.classList.remove('colab-df-spinner');\n",
              "      quickchartButtonEl.classList.add('colab-df-quickchart-complete');\n",
              "    }\n",
              "    (() => {\n",
              "      let quickchartButtonEl =\n",
              "        document.querySelector('#df-afdfc2d1-3b11-4648-bf5b-8987bc2c7711 button');\n",
              "      quickchartButtonEl.style.display =\n",
              "        google.colab.kernel.accessAllowed ? 'block' : 'none';\n",
              "    })();\n",
              "  </script>\n",
              "</div>\n",
              "    </div>\n",
              "  </div>\n"
            ],
            "application/vnd.google.colaboratory.intrinsic+json": {
              "type": "dataframe",
              "summary": "{\n  \"name\": \"df\",\n  \"rows\": 10,\n  \"fields\": [\n    {\n      \"column\": \"count\",\n      \"properties\": {\n        \"dtype\": \"date\",\n        \"min\": \"20000\",\n        \"max\": \"20000\",\n        \"num_unique_values\": 1,\n        \"samples\": [\n          \"20000\"\n        ],\n        \"semantic_type\": \"\",\n        \"description\": \"\"\n      }\n    },\n    {\n      \"column\": \"unique\",\n      \"properties\": {\n        \"dtype\": \"date\",\n        \"min\": 2,\n        \"max\": 17795,\n        \"num_unique_values\": 3,\n        \"samples\": [\n          17795\n        ],\n        \"semantic_type\": \"\",\n        \"description\": \"\"\n      }\n    },\n    {\n      \"column\": \"top\",\n      \"properties\": {\n        \"dtype\": \"category\",\n        \"num_unique_values\": 4,\n        \"samples\": [\n          \"Male\"\n        ],\n        \"semantic_type\": \"\",\n        \"description\": \"\"\n      }\n    },\n    {\n      \"column\": \"freq\",\n      \"properties\": {\n        \"dtype\": \"date\",\n        \"min\": \"13\",\n        \"max\": \"10047\",\n        \"num_unique_values\": 4,\n        \"samples\": [\n          \"10047\"\n        ],\n        \"semantic_type\": \"\",\n        \"description\": \"\"\n      }\n    },\n    {\n      \"column\": \"mean\",\n      \"properties\": {\n        \"dtype\": \"date\",\n        \"min\": 0.4933,\n        \"max\": 50051.03415,\n        \"num_unique_values\": 6,\n        \"samples\": [\n          29.0338\n        ],\n        \"semantic_type\": \"\",\n        \"description\": \"\"\n      }\n    },\n    {\n      \"column\": \"std\",\n      \"properties\": {\n        \"dtype\": \"date\",\n        \"min\": 0.49996760733113393,\n        \"max\": 17329.779353996597,\n        \"num_unique_values\": 6,\n        \"samples\": [\n          6.622458033654904\n        ],\n        \"semantic_type\": \"\",\n        \"description\": \"\"\n      }\n    },\n    {\n      \"column\": \"min\",\n      \"properties\": {\n        \"dtype\": \"date\",\n        \"min\": 0.0,\n        \"max\": 20004.0,\n        \"num_unique_values\": 4,\n        \"samples\": [\n          20004.0\n        ],\n        \"semantic_type\": \"\",\n        \"description\": \"\"\n      }\n    },\n    {\n      \"column\": \"25%\",\n      \"properties\": {\n        \"dtype\": \"date\",\n        \"min\": 0.0,\n        \"max\": 35013.25,\n        \"num_unique_values\": 6,\n        \"samples\": [\n          23.0\n        ],\n        \"semantic_type\": \"\",\n        \"description\": \"\"\n      }\n    },\n    {\n      \"column\": \"50%\",\n      \"properties\": {\n        \"dtype\": \"date\",\n        \"min\": 0.0,\n        \"max\": 50230.0,\n        \"num_unique_values\": 6,\n        \"samples\": [\n          29.0\n        ],\n        \"semantic_type\": \"\",\n        \"description\": \"\"\n      }\n    },\n    {\n      \"column\": \"75%\",\n      \"properties\": {\n        \"dtype\": \"date\",\n        \"min\": 1.0,\n        \"max\": 65120.5,\n        \"num_unique_values\": 6,\n        \"samples\": [\n          35.0\n        ],\n        \"semantic_type\": \"\",\n        \"description\": \"\"\n      }\n    },\n    {\n      \"column\": \"max\",\n      \"properties\": {\n        \"dtype\": \"date\",\n        \"min\": 1.0,\n        \"max\": 79998.0,\n        \"num_unique_values\": 5,\n        \"samples\": [\n          79998.0\n        ],\n        \"semantic_type\": \"\",\n        \"description\": \"\"\n      }\n    }\n  ]\n}"
            }
          },
          "metadata": {},
          "execution_count": 2
        }
      ]
    },
    {
      "cell_type": "code",
      "source": [
        "# Memeriksa nilai yang hilang\n",
        "print(df.isnull().sum())\n",
        "\n",
        "# Mengisi nilai yang hilang\n",
        "df['Age'].fillna(df['Age'].mean(), inplace=True)"
      ],
      "metadata": {
        "colab": {
          "base_uri": "https://localhost:8080/"
        },
        "id": "cSSDMhV37pm1",
        "outputId": "8922c1b8-9316-454b-a464-26da6065c59d"
      },
      "execution_count": 3,
      "outputs": [
        {
          "output_type": "stream",
          "name": "stdout",
          "text": [
            "Name                  0\n",
            "Age                   0\n",
            "Gender                0\n",
            "Income                0\n",
            "Appearance_Score      0\n",
            "Interests_Score       0\n",
            "Confidence_Score      0\n",
            "Educational_Status    0\n",
            "Job_Type              0\n",
            "Valentine_Date        0\n",
            "dtype: int64\n"
          ]
        }
      ]
    },
    {
      "cell_type": "code",
      "source": [
        "# Menghapus kolom yang tidak digunakan\n",
        "df.drop(['Name', 'Educational_Status'], axis=1, inplace=True)\n",
        "\n",
        "# Mengonversi kolom kategorikal menjadi numerikal\n",
        "df = pd.get_dummies(df, columns=['Gender', 'Job_Type'], drop_first=True)"
      ],
      "metadata": {
        "id": "Pdr7QOwk8LQ0"
      },
      "execution_count": 4,
      "outputs": []
    },
    {
      "cell_type": "code",
      "source": [
        "target_column = ['Valentine_Date']\n",
        "predictors = list(set(list(df.columns))-set(target_column))\n",
        "df[predictors] = df[predictors]/df[predictors].max()\n",
        "df.describe().transpose()"
      ],
      "metadata": {
        "colab": {
          "base_uri": "https://localhost:8080/",
          "height": 81
        },
        "id": "jVqaySCq-kpM",
        "outputId": "d9dc4f1f-e107-4e8b-c6e1-9e704b58c0c4"
      },
      "execution_count": 5,
      "outputs": [
        {
          "output_type": "execute_result",
          "data": {
            "text/plain": [
              "                  count    mean       std  min  25%  50%  75%  max\n",
              "Valentine_Date  20000.0  0.4933  0.499968  0.0  0.0  0.0  1.0  1.0"
            ],
            "text/html": [
              "\n",
              "  <div id=\"df-1301d949-0af0-40f9-9ba8-93cab9003419\" class=\"colab-df-container\">\n",
              "    <div>\n",
              "<style scoped>\n",
              "    .dataframe tbody tr th:only-of-type {\n",
              "        vertical-align: middle;\n",
              "    }\n",
              "\n",
              "    .dataframe tbody tr th {\n",
              "        vertical-align: top;\n",
              "    }\n",
              "\n",
              "    .dataframe thead th {\n",
              "        text-align: right;\n",
              "    }\n",
              "</style>\n",
              "<table border=\"1\" class=\"dataframe\">\n",
              "  <thead>\n",
              "    <tr style=\"text-align: right;\">\n",
              "      <th></th>\n",
              "      <th>count</th>\n",
              "      <th>mean</th>\n",
              "      <th>std</th>\n",
              "      <th>min</th>\n",
              "      <th>25%</th>\n",
              "      <th>50%</th>\n",
              "      <th>75%</th>\n",
              "      <th>max</th>\n",
              "    </tr>\n",
              "  </thead>\n",
              "  <tbody>\n",
              "    <tr>\n",
              "      <th>Valentine_Date</th>\n",
              "      <td>20000.0</td>\n",
              "      <td>0.4933</td>\n",
              "      <td>0.499968</td>\n",
              "      <td>0.0</td>\n",
              "      <td>0.0</td>\n",
              "      <td>0.0</td>\n",
              "      <td>1.0</td>\n",
              "      <td>1.0</td>\n",
              "    </tr>\n",
              "  </tbody>\n",
              "</table>\n",
              "</div>\n",
              "    <div class=\"colab-df-buttons\">\n",
              "\n",
              "  <div class=\"colab-df-container\">\n",
              "    <button class=\"colab-df-convert\" onclick=\"convertToInteractive('df-1301d949-0af0-40f9-9ba8-93cab9003419')\"\n",
              "            title=\"Convert this dataframe to an interactive table.\"\n",
              "            style=\"display:none;\">\n",
              "\n",
              "  <svg xmlns=\"http://www.w3.org/2000/svg\" height=\"24px\" viewBox=\"0 -960 960 960\">\n",
              "    <path d=\"M120-120v-720h720v720H120Zm60-500h600v-160H180v160Zm220 220h160v-160H400v160Zm0 220h160v-160H400v160ZM180-400h160v-160H180v160Zm440 0h160v-160H620v160ZM180-180h160v-160H180v160Zm440 0h160v-160H620v160Z\"/>\n",
              "  </svg>\n",
              "    </button>\n",
              "\n",
              "  <style>\n",
              "    .colab-df-container {\n",
              "      display:flex;\n",
              "      gap: 12px;\n",
              "    }\n",
              "\n",
              "    .colab-df-convert {\n",
              "      background-color: #E8F0FE;\n",
              "      border: none;\n",
              "      border-radius: 50%;\n",
              "      cursor: pointer;\n",
              "      display: none;\n",
              "      fill: #1967D2;\n",
              "      height: 32px;\n",
              "      padding: 0 0 0 0;\n",
              "      width: 32px;\n",
              "    }\n",
              "\n",
              "    .colab-df-convert:hover {\n",
              "      background-color: #E2EBFA;\n",
              "      box-shadow: 0px 1px 2px rgba(60, 64, 67, 0.3), 0px 1px 3px 1px rgba(60, 64, 67, 0.15);\n",
              "      fill: #174EA6;\n",
              "    }\n",
              "\n",
              "    .colab-df-buttons div {\n",
              "      margin-bottom: 4px;\n",
              "    }\n",
              "\n",
              "    [theme=dark] .colab-df-convert {\n",
              "      background-color: #3B4455;\n",
              "      fill: #D2E3FC;\n",
              "    }\n",
              "\n",
              "    [theme=dark] .colab-df-convert:hover {\n",
              "      background-color: #434B5C;\n",
              "      box-shadow: 0px 1px 3px 1px rgba(0, 0, 0, 0.15);\n",
              "      filter: drop-shadow(0px 1px 2px rgba(0, 0, 0, 0.3));\n",
              "      fill: #FFFFFF;\n",
              "    }\n",
              "  </style>\n",
              "\n",
              "    <script>\n",
              "      const buttonEl =\n",
              "        document.querySelector('#df-1301d949-0af0-40f9-9ba8-93cab9003419 button.colab-df-convert');\n",
              "      buttonEl.style.display =\n",
              "        google.colab.kernel.accessAllowed ? 'block' : 'none';\n",
              "\n",
              "      async function convertToInteractive(key) {\n",
              "        const element = document.querySelector('#df-1301d949-0af0-40f9-9ba8-93cab9003419');\n",
              "        const dataTable =\n",
              "          await google.colab.kernel.invokeFunction('convertToInteractive',\n",
              "                                                    [key], {});\n",
              "        if (!dataTable) return;\n",
              "\n",
              "        const docLinkHtml = 'Like what you see? Visit the ' +\n",
              "          '<a target=\"_blank\" href=https://colab.research.google.com/notebooks/data_table.ipynb>data table notebook</a>'\n",
              "          + ' to learn more about interactive tables.';\n",
              "        element.innerHTML = '';\n",
              "        dataTable['output_type'] = 'display_data';\n",
              "        await google.colab.output.renderOutput(dataTable, element);\n",
              "        const docLink = document.createElement('div');\n",
              "        docLink.innerHTML = docLinkHtml;\n",
              "        element.appendChild(docLink);\n",
              "      }\n",
              "    </script>\n",
              "  </div>\n",
              "\n",
              "    </div>\n",
              "  </div>\n"
            ],
            "application/vnd.google.colaboratory.intrinsic+json": {
              "type": "dataframe",
              "summary": "{\n  \"name\": \"df\",\n  \"rows\": 1,\n  \"fields\": [\n    {\n      \"column\": \"count\",\n      \"properties\": {\n        \"dtype\": \"number\",\n        \"std\": null,\n        \"min\": 20000.0,\n        \"max\": 20000.0,\n        \"num_unique_values\": 1,\n        \"samples\": [\n          20000.0\n        ],\n        \"semantic_type\": \"\",\n        \"description\": \"\"\n      }\n    },\n    {\n      \"column\": \"mean\",\n      \"properties\": {\n        \"dtype\": \"number\",\n        \"std\": null,\n        \"min\": 0.4933,\n        \"max\": 0.4933,\n        \"num_unique_values\": 1,\n        \"samples\": [\n          0.4933\n        ],\n        \"semantic_type\": \"\",\n        \"description\": \"\"\n      }\n    },\n    {\n      \"column\": \"std\",\n      \"properties\": {\n        \"dtype\": \"number\",\n        \"std\": null,\n        \"min\": 0.49996760733113393,\n        \"max\": 0.49996760733113393,\n        \"num_unique_values\": 1,\n        \"samples\": [\n          0.49996760733113393\n        ],\n        \"semantic_type\": \"\",\n        \"description\": \"\"\n      }\n    },\n    {\n      \"column\": \"min\",\n      \"properties\": {\n        \"dtype\": \"number\",\n        \"std\": null,\n        \"min\": 0.0,\n        \"max\": 0.0,\n        \"num_unique_values\": 1,\n        \"samples\": [\n          0.0\n        ],\n        \"semantic_type\": \"\",\n        \"description\": \"\"\n      }\n    },\n    {\n      \"column\": \"25%\",\n      \"properties\": {\n        \"dtype\": \"number\",\n        \"std\": null,\n        \"min\": 0.0,\n        \"max\": 0.0,\n        \"num_unique_values\": 1,\n        \"samples\": [\n          0.0\n        ],\n        \"semantic_type\": \"\",\n        \"description\": \"\"\n      }\n    },\n    {\n      \"column\": \"50%\",\n      \"properties\": {\n        \"dtype\": \"number\",\n        \"std\": null,\n        \"min\": 0.0,\n        \"max\": 0.0,\n        \"num_unique_values\": 1,\n        \"samples\": [\n          0.0\n        ],\n        \"semantic_type\": \"\",\n        \"description\": \"\"\n      }\n    },\n    {\n      \"column\": \"75%\",\n      \"properties\": {\n        \"dtype\": \"number\",\n        \"std\": null,\n        \"min\": 1.0,\n        \"max\": 1.0,\n        \"num_unique_values\": 1,\n        \"samples\": [\n          1.0\n        ],\n        \"semantic_type\": \"\",\n        \"description\": \"\"\n      }\n    },\n    {\n      \"column\": \"max\",\n      \"properties\": {\n        \"dtype\": \"number\",\n        \"std\": null,\n        \"min\": 1.0,\n        \"max\": 1.0,\n        \"num_unique_values\": 1,\n        \"samples\": [\n          1.0\n        ],\n        \"semantic_type\": \"\",\n        \"description\": \"\"\n      }\n    }\n  ]\n}"
            }
          },
          "metadata": {},
          "execution_count": 5
        }
      ]
    },
    {
      "cell_type": "code",
      "source": [
        "X = df[predictors].values\n",
        "y = df[target_column].values\n",
        "\n",
        "X_train, X_test, y_train, y_test = train_test_split(X, y, test_size=0.3, random_state=42)\n",
        "print(X_train.shape); print(X_test.shape)"
      ],
      "metadata": {
        "colab": {
          "base_uri": "https://localhost:8080/"
        },
        "id": "jd3IgGvE_3kp",
        "outputId": "8be53ffc-4d50-4b61-ce17-61ce500efc10"
      },
      "execution_count": 6,
      "outputs": [
        {
          "output_type": "stream",
          "name": "stdout",
          "text": [
            "(14000, 7)\n",
            "(6000, 7)\n"
          ]
        }
      ]
    },
    {
      "cell_type": "code",
      "source": [
        "scaler = StandardScaler()\n",
        "X_train = scaler.fit_transform(X_train)\n",
        "X_test = scaler.transform(X_test)"
      ],
      "metadata": {
        "id": "BJX_Fpr3ADrD"
      },
      "execution_count": 7,
      "outputs": []
    },
    {
      "cell_type": "code",
      "source": [
        "encoder = OneHotEncoder(sparse=False)\n",
        "y = encoder.fit_transform(y.reshape(-1, 1))"
      ],
      "metadata": {
        "colab": {
          "base_uri": "https://localhost:8080/"
        },
        "id": "Q0vCEGPJAIhQ",
        "outputId": "d75d3d72-48aa-45a1-c216-fc1ffcdaa6ad"
      },
      "execution_count": 8,
      "outputs": [
        {
          "output_type": "stream",
          "name": "stderr",
          "text": [
            "/usr/local/lib/python3.10/dist-packages/sklearn/preprocessing/_encoders.py:868: FutureWarning: `sparse` was renamed to `sparse_output` in version 1.2 and will be removed in 1.4. `sparse_output` is ignored unless you leave `sparse` to its default value.\n",
            "  warnings.warn(\n"
          ]
        }
      ]
    },
    {
      "cell_type": "code",
      "source": [
        "# Fungsi aktivasi\n",
        "def sigmoid(x):\n",
        "  return 1/ (1 + np.exp(-x))\n",
        "def relu(x):\n",
        "    return np.maximum(0, x)\n",
        "def tanh(x):\n",
        "    return np.tanh(x)\n",
        "def leaky_relu(x, alpha=0.01):\n",
        "    return np.where(x > 0, x, x * alpha)\n",
        "def elu(x, alpha=1.0):\n",
        "    return np.where(x > 0, x, alpha * (np.exp(x) - 1))\n",
        "def softmax(x):\n",
        "    exps = np.exp(x - np.max(x))\n",
        "    return exps / np.sum(exps, axis=0)\n",
        "def swish(x):\n",
        "    return x * sigmoid(x)\n",
        "def gelu(x):\n",
        "    return 0.5 * x * (1 + np.tanh(np.sqrt(2 / np.pi) * (x + 0.044715 * x ** 3)))\n",
        "def selu(x, alpha=1.67326, scale=1.0507):\n",
        "    return scale * np.where(x > 0, x, alpha * (np.exp(x) - 1))\n",
        "def binary_step(x):\n",
        "    return np.where(x >= 0, 1, 0)\n",
        "def linear(x):\n",
        "    return x\n",
        "\n",
        "# Turunan fungsi\n",
        "def sigmoid_derivative(x):\n",
        "  return x * (1 - x)\n",
        "def relu_derivative(x):\n",
        "    return np.where(x > 0, 1, 0)\n",
        "def tanh_derivative(x):\n",
        "    return 1 - np.tanh(x) ** 2\n",
        "def leaky_relu_derivative(x, alpha=0.01):\n",
        "    return np.where(x > 0, 1, alpha)\n",
        "def elu_derivative(x, alpha=1.0):\n",
        "    return np.where(x > 0, 1, elu(x, alpha) + alpha)\n",
        "def softmax_derivative(x):\n",
        "    s = softmax(x)\n",
        "    return s * (1 - s)\n",
        "def swish_derivative(x):\n",
        "    s = sigmoid(x)\n",
        "    return s + x * s * (1 - s)\n",
        "def gelu_derivative(x):\n",
        "    return 0.5 * (1 + np.tanh(np.sqrt(2 / np.pi) * (x + 0.044715 * x ** 3))) + \\\n",
        "           0.5 * x * (1 - np.tanh(np.sqrt(2 / np.pi) * (x + 0.044715 * x ** 3)) ** 2) * \\\n",
        "           (np.sqrt(2 / np.pi) * (1 + 3 * 0.044715 * x ** 2))\n",
        "def selu_derivative(x, alpha=1.67326, scale=1.0507):\n",
        "    return scale * np.where(x > 0, 1, alpha * np.exp(x))\n",
        "def binary_step_derivative(x):\n",
        "    return np.zeros_like(x)\n",
        "def linear_derivative(x):\n",
        "    return np.ones_like(x)"
      ],
      "metadata": {
        "id": "xGwezQPCC5lf"
      },
      "execution_count": 9,
      "outputs": []
    },
    {
      "cell_type": "code",
      "source": [
        "# Fungsi untuk melatih dan mengevaluasi model\n",
        "def train_and_evaluate(hidden_layer_neurons, activation, activation_derivative):\n",
        "    # Inisialiasasi bobot dan bias\n",
        "    np.random.seed(42)\n",
        "    input_layer_neurons = X_train.shape[1]\n",
        "    output_layer_neurons = y_train.shape[1]\n",
        "\n",
        "    layer_neurons = [input_layer_neurons] + list(hidden_layers) + [output_layer_neurons]\n",
        "    weights = []\n",
        "    biases = []\n",
        "\n",
        "    for i in range(len(layer_neurons) - 1):\n",
        "        weights.append(np.random.uniform(size=(layer_neurons[i], layer_neurons[i + 1])))\n",
        "        biases.append(np.random.uniform(size=(1, layer_neurons[i + 1])))\n",
        "\n",
        "    # Hiperparameter\n",
        "    learning_rate = 0.01\n",
        "    epochs = 1000\n",
        "\n",
        "    # Proses pelatihan\n",
        "    for epoch in range(epochs):\n",
        "        # Forward propagation\n",
        "        layer_inputs = [X_train]\n",
        "        layer_outputs = []\n",
        "\n",
        "        for i in range(len(weights)):\n",
        "            layer_input = np.dot(layer_inputs[-1], weights[i]) + biases[i]\n",
        "            layer_output = activation(layer_input)\n",
        "            layer_inputs.append(layer_input)\n",
        "            layer_outputs.append(layer_output)\n",
        "\n",
        "        # Backpropagation\n",
        "        error = y_train - layer_outputs[-1]\n",
        "        deltas = [error * sigmoid_derivative(layer_outputs[-1])]\n",
        "\n",
        "        for i in range(len(weights) - 2, -1, -1):\n",
        "            delta = deltas[-1].dot(weights[i + 1].T) * activation_derivative(layer_outputs[i])\n",
        "            deltas.append(delta)\n",
        "\n",
        "        deltas.reverse()\n",
        "\n",
        "        # Update bobot dan bias\n",
        "        for i in range(len(weights)):\n",
        "            weights[i] += layer_inputs[i].T.dot(deltas[i]) * learning_rate\n",
        "            biases[i] += np.sum(deltas[i], axis=0, keepdims=True) * learning_rate\n",
        "\n",
        "        # Cetak eror setiap 1000 epochs\n",
        "        if (epoch + 1) % 1000 == 0:\n",
        "            loss = np.mean(np.square(error))\n",
        "            print(f'Epoch {epoch + 1}, Loss: {loss}')\n",
        "\n",
        "    # Prediksi pada data testing\n",
        "    layer_input = X_test\n",
        "    for i in range(len(weights)):\n",
        "        layer_input = activation(np.dot(layer_input, weights[i]) + biases[i])\n",
        "\n",
        "    predicted_output = layer_input\n",
        "\n",
        "    # Evaluasi model\n",
        "    y_test_labels = np.argmax(y_test, axis=1)\n",
        "    predicted_labels = np.argmax(predicted_output, axis=1)\n",
        "    accuracy = accuracy_score(y_test_labels, predicted_labels)\n",
        "\n",
        "    return accuracy"
      ],
      "metadata": {
        "id": "gucBRkPmDlwy"
      },
      "execution_count": 10,
      "outputs": []
    },
    {
      "cell_type": "code",
      "source": [
        "hidden_layer_sizes = [(10, 10, 6), (6, 8, 9), (6, 9, 1), (6, 3, 9), (7, 10, 8)]\n",
        "activation_functions = [\n",
        "    (relu, relu_derivative),\n",
        "    (sigmoid, sigmoid_derivative),\n",
        "    (tanh, tanh_derivative),\n",
        "    (leaky_relu, leaky_relu_derivative),\n",
        "    (elu, elu_derivative),\n",
        "    (swish, swish_derivative),\n",
        "    (gelu, gelu_derivative),\n",
        "    (selu, selu_derivative),\n",
        "    (binary_step, binary_step_derivative),\n",
        "    (linear, linear_derivative)\n",
        "]\n",
        "\n",
        "results = []"
      ],
      "metadata": {
        "id": "BbOjTUF1HhWy"
      },
      "execution_count": 11,
      "outputs": []
    },
    {
      "cell_type": "code",
      "source": [
        "for hidden_layers in hidden_layer_sizes:\n",
        "    for activation, activation_derivative in activation_functions:\n",
        "        accuracy = train_and_evaluate(hidden_layers, activation, activation_derivative)\n",
        "        results.append((hidden_layers, activation.__name__, accuracy))"
      ],
      "metadata": {
        "colab": {
          "base_uri": "https://localhost:8080/"
        },
        "id": "hbVo2vl9HkQi",
        "outputId": "32c04e0f-c354-437a-c178-73676d5b97a1"
      },
      "execution_count": 12,
      "outputs": [
        {
          "output_type": "stream",
          "name": "stdout",
          "text": [
            "Epoch 1000, Loss: nan\n"
          ]
        },
        {
          "output_type": "stream",
          "name": "stderr",
          "text": [
            "<ipython-input-9-2982b90a6f60>:3: RuntimeWarning: overflow encountered in exp\n",
            "  return 1/ (1 + np.exp(-x))\n"
          ]
        },
        {
          "output_type": "stream",
          "name": "stdout",
          "text": [
            "Epoch 1000, Loss: 0.4969008477866515\n",
            "Epoch 1000, Loss: nan\n"
          ]
        },
        {
          "output_type": "stream",
          "name": "stderr",
          "text": [
            "/usr/local/lib/python3.10/dist-packages/numpy/core/fromnumeric.py:88: RuntimeWarning: invalid value encountered in reduce\n",
            "  return ufunc.reduce(obj, axis, dtype, out, **passkwargs)\n"
          ]
        },
        {
          "output_type": "stream",
          "name": "stdout",
          "text": [
            "Epoch 1000, Loss: nan\n"
          ]
        },
        {
          "output_type": "stream",
          "name": "stderr",
          "text": [
            "<ipython-input-9-2982b90a6f60>:11: RuntimeWarning: overflow encountered in exp\n",
            "  return np.where(x > 0, x, alpha * (np.exp(x) - 1))\n",
            "/usr/local/lib/python3.10/dist-packages/numpy/core/fromnumeric.py:88: RuntimeWarning: invalid value encountered in reduce\n",
            "  return ufunc.reduce(obj, axis, dtype, out, **passkwargs)\n"
          ]
        },
        {
          "output_type": "stream",
          "name": "stdout",
          "text": [
            "Epoch 1000, Loss: nan\n"
          ]
        },
        {
          "output_type": "stream",
          "name": "stderr",
          "text": [
            "<ipython-input-9-2982b90a6f60>:3: RuntimeWarning: overflow encountered in exp\n",
            "  return 1/ (1 + np.exp(-x))\n",
            "<ipython-input-9-2982b90a6f60>:16: RuntimeWarning: invalid value encountered in multiply\n",
            "  return x * sigmoid(x)\n",
            "<ipython-input-9-2982b90a6f60>:42: RuntimeWarning: invalid value encountered in multiply\n",
            "  return s + x * s * (1 - s)\n"
          ]
        },
        {
          "output_type": "stream",
          "name": "stdout",
          "text": [
            "Epoch 1000, Loss: nan\n"
          ]
        },
        {
          "output_type": "stream",
          "name": "stderr",
          "text": [
            "<ipython-input-9-2982b90a6f60>:18: RuntimeWarning: overflow encountered in power\n",
            "  return 0.5 * x * (1 + np.tanh(np.sqrt(2 / np.pi) * (x + 0.044715 * x ** 3)))\n",
            "<ipython-input-9-2982b90a6f60>:18: RuntimeWarning: invalid value encountered in multiply\n",
            "  return 0.5 * x * (1 + np.tanh(np.sqrt(2 / np.pi) * (x + 0.044715 * x ** 3)))\n",
            "<ipython-input-9-2982b90a6f60>:45: RuntimeWarning: invalid value encountered in multiply\n",
            "  0.5 * x * (1 - np.tanh(np.sqrt(2 / np.pi) * (x + 0.044715 * x ** 3)) ** 2) * \\\n",
            "<ipython-input-9-2982b90a6f60>:44: RuntimeWarning: overflow encountered in power\n",
            "  return 0.5 * (1 + np.tanh(np.sqrt(2 / np.pi) * (x + 0.044715 * x ** 3))) + \\\n",
            "<ipython-input-9-2982b90a6f60>:45: RuntimeWarning: overflow encountered in power\n",
            "  0.5 * x * (1 - np.tanh(np.sqrt(2 / np.pi) * (x + 0.044715 * x ** 3)) ** 2) * \\\n",
            "<ipython-input-9-2982b90a6f60>:46: RuntimeWarning: overflow encountered in square\n",
            "  (np.sqrt(2 / np.pi) * (1 + 3 * 0.044715 * x ** 2))\n"
          ]
        },
        {
          "output_type": "stream",
          "name": "stdout",
          "text": [
            "Epoch 1000, Loss: nan\n"
          ]
        },
        {
          "output_type": "stream",
          "name": "stderr",
          "text": [
            "<ipython-input-9-2982b90a6f60>:20: RuntimeWarning: overflow encountered in exp\n",
            "  return scale * np.where(x > 0, x, alpha * (np.exp(x) - 1))\n",
            "<ipython-input-9-2982b90a6f60>:48: RuntimeWarning: overflow encountered in exp\n",
            "  return scale * np.where(x > 0, 1, alpha * np.exp(x))\n",
            "/usr/local/lib/python3.10/dist-packages/numpy/core/fromnumeric.py:88: RuntimeWarning: invalid value encountered in reduce\n",
            "  return ufunc.reduce(obj, axis, dtype, out, **passkwargs)\n"
          ]
        },
        {
          "output_type": "stream",
          "name": "stdout",
          "text": [
            "Epoch 1000, Loss: nan\n",
            "Epoch 1000, Loss: 0.5012142857142857\n"
          ]
        },
        {
          "output_type": "stream",
          "name": "stderr",
          "text": [
            "/usr/local/lib/python3.10/dist-packages/numpy/core/fromnumeric.py:88: RuntimeWarning: invalid value encountered in reduce\n",
            "  return ufunc.reduce(obj, axis, dtype, out, **passkwargs)\n"
          ]
        },
        {
          "output_type": "stream",
          "name": "stdout",
          "text": [
            "Epoch 1000, Loss: nan\n",
            "Epoch 1000, Loss: nan\n"
          ]
        },
        {
          "output_type": "stream",
          "name": "stderr",
          "text": [
            "<ipython-input-9-2982b90a6f60>:3: RuntimeWarning: overflow encountered in exp\n",
            "  return 1/ (1 + np.exp(-x))\n"
          ]
        },
        {
          "output_type": "stream",
          "name": "stdout",
          "text": [
            "Epoch 1000, Loss: 0.480918150015885\n",
            "Epoch 1000, Loss: nan\n"
          ]
        },
        {
          "output_type": "stream",
          "name": "stderr",
          "text": [
            "/usr/local/lib/python3.10/dist-packages/numpy/core/fromnumeric.py:88: RuntimeWarning: invalid value encountered in reduce\n",
            "  return ufunc.reduce(obj, axis, dtype, out, **passkwargs)\n"
          ]
        },
        {
          "output_type": "stream",
          "name": "stdout",
          "text": [
            "Epoch 1000, Loss: nan\n"
          ]
        },
        {
          "output_type": "stream",
          "name": "stderr",
          "text": [
            "<ipython-input-9-2982b90a6f60>:11: RuntimeWarning: overflow encountered in exp\n",
            "  return np.where(x > 0, x, alpha * (np.exp(x) - 1))\n",
            "/usr/local/lib/python3.10/dist-packages/numpy/core/fromnumeric.py:88: RuntimeWarning: invalid value encountered in reduce\n",
            "  return ufunc.reduce(obj, axis, dtype, out, **passkwargs)\n"
          ]
        },
        {
          "output_type": "stream",
          "name": "stdout",
          "text": [
            "Epoch 1000, Loss: nan\n"
          ]
        },
        {
          "output_type": "stream",
          "name": "stderr",
          "text": [
            "<ipython-input-9-2982b90a6f60>:3: RuntimeWarning: overflow encountered in exp\n",
            "  return 1/ (1 + np.exp(-x))\n",
            "<ipython-input-9-2982b90a6f60>:16: RuntimeWarning: invalid value encountered in multiply\n",
            "  return x * sigmoid(x)\n",
            "<ipython-input-9-2982b90a6f60>:42: RuntimeWarning: invalid value encountered in multiply\n",
            "  return s + x * s * (1 - s)\n"
          ]
        },
        {
          "output_type": "stream",
          "name": "stdout",
          "text": [
            "Epoch 1000, Loss: nan\n"
          ]
        },
        {
          "output_type": "stream",
          "name": "stderr",
          "text": [
            "<ipython-input-9-2982b90a6f60>:18: RuntimeWarning: overflow encountered in power\n",
            "  return 0.5 * x * (1 + np.tanh(np.sqrt(2 / np.pi) * (x + 0.044715 * x ** 3)))\n",
            "<ipython-input-9-2982b90a6f60>:18: RuntimeWarning: invalid value encountered in multiply\n",
            "  return 0.5 * x * (1 + np.tanh(np.sqrt(2 / np.pi) * (x + 0.044715 * x ** 3)))\n",
            "<ipython-input-9-2982b90a6f60>:45: RuntimeWarning: invalid value encountered in multiply\n",
            "  0.5 * x * (1 - np.tanh(np.sqrt(2 / np.pi) * (x + 0.044715 * x ** 3)) ** 2) * \\\n",
            "<ipython-input-9-2982b90a6f60>:44: RuntimeWarning: overflow encountered in power\n",
            "  return 0.5 * (1 + np.tanh(np.sqrt(2 / np.pi) * (x + 0.044715 * x ** 3))) + \\\n",
            "<ipython-input-9-2982b90a6f60>:45: RuntimeWarning: overflow encountered in power\n",
            "  0.5 * x * (1 - np.tanh(np.sqrt(2 / np.pi) * (x + 0.044715 * x ** 3)) ** 2) * \\\n",
            "<ipython-input-9-2982b90a6f60>:46: RuntimeWarning: overflow encountered in square\n",
            "  (np.sqrt(2 / np.pi) * (1 + 3 * 0.044715 * x ** 2))\n"
          ]
        },
        {
          "output_type": "stream",
          "name": "stdout",
          "text": [
            "Epoch 1000, Loss: nan\n"
          ]
        },
        {
          "output_type": "stream",
          "name": "stderr",
          "text": [
            "<ipython-input-9-2982b90a6f60>:20: RuntimeWarning: overflow encountered in exp\n",
            "  return scale * np.where(x > 0, x, alpha * (np.exp(x) - 1))\n",
            "<ipython-input-9-2982b90a6f60>:48: RuntimeWarning: overflow encountered in exp\n",
            "  return scale * np.where(x > 0, 1, alpha * np.exp(x))\n",
            "/usr/local/lib/python3.10/dist-packages/numpy/core/fromnumeric.py:88: RuntimeWarning: invalid value encountered in reduce\n",
            "  return ufunc.reduce(obj, axis, dtype, out, **passkwargs)\n"
          ]
        },
        {
          "output_type": "stream",
          "name": "stdout",
          "text": [
            "Epoch 1000, Loss: nan\n",
            "Epoch 1000, Loss: 0.5023571428571428\n"
          ]
        },
        {
          "output_type": "stream",
          "name": "stderr",
          "text": [
            "/usr/local/lib/python3.10/dist-packages/numpy/core/fromnumeric.py:88: RuntimeWarning: invalid value encountered in reduce\n",
            "  return ufunc.reduce(obj, axis, dtype, out, **passkwargs)\n"
          ]
        },
        {
          "output_type": "stream",
          "name": "stdout",
          "text": [
            "Epoch 1000, Loss: nan\n",
            "Epoch 1000, Loss: nan\n"
          ]
        },
        {
          "output_type": "stream",
          "name": "stderr",
          "text": [
            "<ipython-input-9-2982b90a6f60>:3: RuntimeWarning: overflow encountered in exp\n",
            "  return 1/ (1 + np.exp(-x))\n"
          ]
        },
        {
          "output_type": "stream",
          "name": "stdout",
          "text": [
            "Epoch 1000, Loss: 0.49382383448445905\n",
            "Epoch 1000, Loss: nan\n"
          ]
        },
        {
          "output_type": "stream",
          "name": "stderr",
          "text": [
            "/usr/local/lib/python3.10/dist-packages/numpy/core/fromnumeric.py:88: RuntimeWarning: invalid value encountered in reduce\n",
            "  return ufunc.reduce(obj, axis, dtype, out, **passkwargs)\n"
          ]
        },
        {
          "output_type": "stream",
          "name": "stdout",
          "text": [
            "Epoch 1000, Loss: nan\n"
          ]
        },
        {
          "output_type": "stream",
          "name": "stderr",
          "text": [
            "<ipython-input-9-2982b90a6f60>:11: RuntimeWarning: overflow encountered in exp\n",
            "  return np.where(x > 0, x, alpha * (np.exp(x) - 1))\n",
            "/usr/local/lib/python3.10/dist-packages/numpy/core/fromnumeric.py:88: RuntimeWarning: invalid value encountered in reduce\n",
            "  return ufunc.reduce(obj, axis, dtype, out, **passkwargs)\n"
          ]
        },
        {
          "output_type": "stream",
          "name": "stdout",
          "text": [
            "Epoch 1000, Loss: nan\n"
          ]
        },
        {
          "output_type": "stream",
          "name": "stderr",
          "text": [
            "<ipython-input-9-2982b90a6f60>:3: RuntimeWarning: overflow encountered in exp\n",
            "  return 1/ (1 + np.exp(-x))\n",
            "<ipython-input-9-2982b90a6f60>:16: RuntimeWarning: invalid value encountered in multiply\n",
            "  return x * sigmoid(x)\n",
            "<ipython-input-9-2982b90a6f60>:42: RuntimeWarning: invalid value encountered in multiply\n",
            "  return s + x * s * (1 - s)\n"
          ]
        },
        {
          "output_type": "stream",
          "name": "stdout",
          "text": [
            "Epoch 1000, Loss: nan\n"
          ]
        },
        {
          "output_type": "stream",
          "name": "stderr",
          "text": [
            "<ipython-input-9-2982b90a6f60>:18: RuntimeWarning: overflow encountered in power\n",
            "  return 0.5 * x * (1 + np.tanh(np.sqrt(2 / np.pi) * (x + 0.044715 * x ** 3)))\n",
            "<ipython-input-9-2982b90a6f60>:18: RuntimeWarning: invalid value encountered in multiply\n",
            "  return 0.5 * x * (1 + np.tanh(np.sqrt(2 / np.pi) * (x + 0.044715 * x ** 3)))\n",
            "<ipython-input-9-2982b90a6f60>:45: RuntimeWarning: invalid value encountered in multiply\n",
            "  0.5 * x * (1 - np.tanh(np.sqrt(2 / np.pi) * (x + 0.044715 * x ** 3)) ** 2) * \\\n",
            "<ipython-input-9-2982b90a6f60>:44: RuntimeWarning: overflow encountered in power\n",
            "  return 0.5 * (1 + np.tanh(np.sqrt(2 / np.pi) * (x + 0.044715 * x ** 3))) + \\\n",
            "<ipython-input-9-2982b90a6f60>:45: RuntimeWarning: overflow encountered in power\n",
            "  0.5 * x * (1 - np.tanh(np.sqrt(2 / np.pi) * (x + 0.044715 * x ** 3)) ** 2) * \\\n",
            "<ipython-input-9-2982b90a6f60>:46: RuntimeWarning: overflow encountered in square\n",
            "  (np.sqrt(2 / np.pi) * (1 + 3 * 0.044715 * x ** 2))\n"
          ]
        },
        {
          "output_type": "stream",
          "name": "stdout",
          "text": [
            "Epoch 1000, Loss: nan\n"
          ]
        },
        {
          "output_type": "stream",
          "name": "stderr",
          "text": [
            "<ipython-input-9-2982b90a6f60>:20: RuntimeWarning: overflow encountered in exp\n",
            "  return scale * np.where(x > 0, x, alpha * (np.exp(x) - 1))\n",
            "<ipython-input-9-2982b90a6f60>:48: RuntimeWarning: overflow encountered in exp\n",
            "  return scale * np.where(x > 0, 1, alpha * np.exp(x))\n",
            "/usr/local/lib/python3.10/dist-packages/numpy/core/fromnumeric.py:88: RuntimeWarning: invalid value encountered in reduce\n",
            "  return ufunc.reduce(obj, axis, dtype, out, **passkwargs)\n"
          ]
        },
        {
          "output_type": "stream",
          "name": "stdout",
          "text": [
            "Epoch 1000, Loss: nan\n",
            "Epoch 1000, Loss: 0.5016428571428572\n"
          ]
        },
        {
          "output_type": "stream",
          "name": "stderr",
          "text": [
            "/usr/local/lib/python3.10/dist-packages/numpy/core/fromnumeric.py:88: RuntimeWarning: invalid value encountered in reduce\n",
            "  return ufunc.reduce(obj, axis, dtype, out, **passkwargs)\n"
          ]
        },
        {
          "output_type": "stream",
          "name": "stdout",
          "text": [
            "Epoch 1000, Loss: nan\n",
            "Epoch 1000, Loss: nan\n",
            "Epoch 1000, Loss: 0.4912853116433336\n",
            "Epoch 1000, Loss: nan\n"
          ]
        },
        {
          "output_type": "stream",
          "name": "stderr",
          "text": [
            "/usr/local/lib/python3.10/dist-packages/numpy/core/fromnumeric.py:88: RuntimeWarning: invalid value encountered in reduce\n",
            "  return ufunc.reduce(obj, axis, dtype, out, **passkwargs)\n"
          ]
        },
        {
          "output_type": "stream",
          "name": "stdout",
          "text": [
            "Epoch 1000, Loss: nan\n"
          ]
        },
        {
          "output_type": "stream",
          "name": "stderr",
          "text": [
            "<ipython-input-9-2982b90a6f60>:11: RuntimeWarning: overflow encountered in exp\n",
            "  return np.where(x > 0, x, alpha * (np.exp(x) - 1))\n",
            "/usr/local/lib/python3.10/dist-packages/numpy/core/fromnumeric.py:88: RuntimeWarning: invalid value encountered in reduce\n",
            "  return ufunc.reduce(obj, axis, dtype, out, **passkwargs)\n"
          ]
        },
        {
          "output_type": "stream",
          "name": "stdout",
          "text": [
            "Epoch 1000, Loss: nan\n"
          ]
        },
        {
          "output_type": "stream",
          "name": "stderr",
          "text": [
            "<ipython-input-9-2982b90a6f60>:3: RuntimeWarning: overflow encountered in exp\n",
            "  return 1/ (1 + np.exp(-x))\n",
            "<ipython-input-9-2982b90a6f60>:16: RuntimeWarning: invalid value encountered in multiply\n",
            "  return x * sigmoid(x)\n",
            "<ipython-input-9-2982b90a6f60>:42: RuntimeWarning: invalid value encountered in multiply\n",
            "  return s + x * s * (1 - s)\n"
          ]
        },
        {
          "output_type": "stream",
          "name": "stdout",
          "text": [
            "Epoch 1000, Loss: nan\n"
          ]
        },
        {
          "output_type": "stream",
          "name": "stderr",
          "text": [
            "<ipython-input-9-2982b90a6f60>:18: RuntimeWarning: overflow encountered in power\n",
            "  return 0.5 * x * (1 + np.tanh(np.sqrt(2 / np.pi) * (x + 0.044715 * x ** 3)))\n",
            "<ipython-input-9-2982b90a6f60>:18: RuntimeWarning: invalid value encountered in multiply\n",
            "  return 0.5 * x * (1 + np.tanh(np.sqrt(2 / np.pi) * (x + 0.044715 * x ** 3)))\n",
            "<ipython-input-9-2982b90a6f60>:45: RuntimeWarning: invalid value encountered in multiply\n",
            "  0.5 * x * (1 - np.tanh(np.sqrt(2 / np.pi) * (x + 0.044715 * x ** 3)) ** 2) * \\\n",
            "<ipython-input-9-2982b90a6f60>:44: RuntimeWarning: overflow encountered in power\n",
            "  return 0.5 * (1 + np.tanh(np.sqrt(2 / np.pi) * (x + 0.044715 * x ** 3))) + \\\n",
            "<ipython-input-9-2982b90a6f60>:45: RuntimeWarning: overflow encountered in power\n",
            "  0.5 * x * (1 - np.tanh(np.sqrt(2 / np.pi) * (x + 0.044715 * x ** 3)) ** 2) * \\\n",
            "<ipython-input-9-2982b90a6f60>:46: RuntimeWarning: overflow encountered in square\n",
            "  (np.sqrt(2 / np.pi) * (1 + 3 * 0.044715 * x ** 2))\n"
          ]
        },
        {
          "output_type": "stream",
          "name": "stdout",
          "text": [
            "Epoch 1000, Loss: nan\n"
          ]
        },
        {
          "output_type": "stream",
          "name": "stderr",
          "text": [
            "<ipython-input-9-2982b90a6f60>:20: RuntimeWarning: overflow encountered in exp\n",
            "  return scale * np.where(x > 0, x, alpha * (np.exp(x) - 1))\n",
            "<ipython-input-9-2982b90a6f60>:48: RuntimeWarning: overflow encountered in exp\n",
            "  return scale * np.where(x > 0, 1, alpha * np.exp(x))\n",
            "/usr/local/lib/python3.10/dist-packages/numpy/core/fromnumeric.py:88: RuntimeWarning: invalid value encountered in reduce\n",
            "  return ufunc.reduce(obj, axis, dtype, out, **passkwargs)\n"
          ]
        },
        {
          "output_type": "stream",
          "name": "stdout",
          "text": [
            "Epoch 1000, Loss: nan\n",
            "Epoch 1000, Loss: 0.5007857142857143\n"
          ]
        },
        {
          "output_type": "stream",
          "name": "stderr",
          "text": [
            "/usr/local/lib/python3.10/dist-packages/numpy/core/fromnumeric.py:88: RuntimeWarning: invalid value encountered in reduce\n",
            "  return ufunc.reduce(obj, axis, dtype, out, **passkwargs)\n"
          ]
        },
        {
          "output_type": "stream",
          "name": "stdout",
          "text": [
            "Epoch 1000, Loss: nan\n",
            "Epoch 1000, Loss: nan\n"
          ]
        },
        {
          "output_type": "stream",
          "name": "stderr",
          "text": [
            "<ipython-input-9-2982b90a6f60>:3: RuntimeWarning: overflow encountered in exp\n",
            "  return 1/ (1 + np.exp(-x))\n"
          ]
        },
        {
          "output_type": "stream",
          "name": "stdout",
          "text": [
            "Epoch 1000, Loss: 0.48832407902847225\n",
            "Epoch 1000, Loss: nan\n"
          ]
        },
        {
          "output_type": "stream",
          "name": "stderr",
          "text": [
            "/usr/local/lib/python3.10/dist-packages/numpy/core/fromnumeric.py:88: RuntimeWarning: invalid value encountered in reduce\n",
            "  return ufunc.reduce(obj, axis, dtype, out, **passkwargs)\n"
          ]
        },
        {
          "output_type": "stream",
          "name": "stdout",
          "text": [
            "Epoch 1000, Loss: nan\n"
          ]
        },
        {
          "output_type": "stream",
          "name": "stderr",
          "text": [
            "<ipython-input-9-2982b90a6f60>:11: RuntimeWarning: overflow encountered in exp\n",
            "  return np.where(x > 0, x, alpha * (np.exp(x) - 1))\n",
            "/usr/local/lib/python3.10/dist-packages/numpy/core/fromnumeric.py:88: RuntimeWarning: invalid value encountered in reduce\n",
            "  return ufunc.reduce(obj, axis, dtype, out, **passkwargs)\n"
          ]
        },
        {
          "output_type": "stream",
          "name": "stdout",
          "text": [
            "Epoch 1000, Loss: nan\n"
          ]
        },
        {
          "output_type": "stream",
          "name": "stderr",
          "text": [
            "<ipython-input-9-2982b90a6f60>:3: RuntimeWarning: overflow encountered in exp\n",
            "  return 1/ (1 + np.exp(-x))\n",
            "<ipython-input-9-2982b90a6f60>:16: RuntimeWarning: invalid value encountered in multiply\n",
            "  return x * sigmoid(x)\n",
            "<ipython-input-9-2982b90a6f60>:42: RuntimeWarning: invalid value encountered in multiply\n",
            "  return s + x * s * (1 - s)\n"
          ]
        },
        {
          "output_type": "stream",
          "name": "stdout",
          "text": [
            "Epoch 1000, Loss: nan\n"
          ]
        },
        {
          "output_type": "stream",
          "name": "stderr",
          "text": [
            "<ipython-input-9-2982b90a6f60>:18: RuntimeWarning: overflow encountered in power\n",
            "  return 0.5 * x * (1 + np.tanh(np.sqrt(2 / np.pi) * (x + 0.044715 * x ** 3)))\n",
            "<ipython-input-9-2982b90a6f60>:18: RuntimeWarning: invalid value encountered in multiply\n",
            "  return 0.5 * x * (1 + np.tanh(np.sqrt(2 / np.pi) * (x + 0.044715 * x ** 3)))\n",
            "<ipython-input-9-2982b90a6f60>:45: RuntimeWarning: invalid value encountered in multiply\n",
            "  0.5 * x * (1 - np.tanh(np.sqrt(2 / np.pi) * (x + 0.044715 * x ** 3)) ** 2) * \\\n",
            "<ipython-input-9-2982b90a6f60>:44: RuntimeWarning: overflow encountered in power\n",
            "  return 0.5 * (1 + np.tanh(np.sqrt(2 / np.pi) * (x + 0.044715 * x ** 3))) + \\\n",
            "<ipython-input-9-2982b90a6f60>:45: RuntimeWarning: overflow encountered in power\n",
            "  0.5 * x * (1 - np.tanh(np.sqrt(2 / np.pi) * (x + 0.044715 * x ** 3)) ** 2) * \\\n",
            "<ipython-input-9-2982b90a6f60>:46: RuntimeWarning: overflow encountered in square\n",
            "  (np.sqrt(2 / np.pi) * (1 + 3 * 0.044715 * x ** 2))\n"
          ]
        },
        {
          "output_type": "stream",
          "name": "stdout",
          "text": [
            "Epoch 1000, Loss: nan\n"
          ]
        },
        {
          "output_type": "stream",
          "name": "stderr",
          "text": [
            "<ipython-input-9-2982b90a6f60>:20: RuntimeWarning: overflow encountered in exp\n",
            "  return scale * np.where(x > 0, x, alpha * (np.exp(x) - 1))\n",
            "<ipython-input-9-2982b90a6f60>:48: RuntimeWarning: overflow encountered in exp\n",
            "  return scale * np.where(x > 0, 1, alpha * np.exp(x))\n",
            "/usr/local/lib/python3.10/dist-packages/numpy/core/fromnumeric.py:88: RuntimeWarning: invalid value encountered in reduce\n",
            "  return ufunc.reduce(obj, axis, dtype, out, **passkwargs)\n"
          ]
        },
        {
          "output_type": "stream",
          "name": "stdout",
          "text": [
            "Epoch 1000, Loss: nan\n",
            "Epoch 1000, Loss: 0.5025714285714286\n"
          ]
        },
        {
          "output_type": "stream",
          "name": "stderr",
          "text": [
            "/usr/local/lib/python3.10/dist-packages/numpy/core/fromnumeric.py:88: RuntimeWarning: invalid value encountered in reduce\n",
            "  return ufunc.reduce(obj, axis, dtype, out, **passkwargs)\n"
          ]
        },
        {
          "output_type": "stream",
          "name": "stdout",
          "text": [
            "Epoch 1000, Loss: nan\n"
          ]
        }
      ]
    },
    {
      "cell_type": "code",
      "source": [
        "for hidden_layers, activation_name, accuracy in results:\n",
        "    print(f'Hidden Layer Neurons: {hidden_layers}, Activation: {activation_name}, Accuracy: {accuracy * 100}%')"
      ],
      "metadata": {
        "colab": {
          "base_uri": "https://localhost:8080/"
        },
        "id": "01AdhliqID8Q",
        "outputId": "f09874f2-b90a-417c-8172-508a20f532c9"
      },
      "execution_count": 13,
      "outputs": [
        {
          "output_type": "stream",
          "name": "stdout",
          "text": [
            "Hidden Layer Neurons: (10, 10, 6), Activation: relu, Accuracy: 100.0%\n",
            "Hidden Layer Neurons: (10, 10, 6), Activation: sigmoid, Accuracy: 100.0%\n",
            "Hidden Layer Neurons: (10, 10, 6), Activation: tanh, Accuracy: 100.0%\n",
            "Hidden Layer Neurons: (10, 10, 6), Activation: leaky_relu, Accuracy: 100.0%\n",
            "Hidden Layer Neurons: (10, 10, 6), Activation: elu, Accuracy: 100.0%\n",
            "Hidden Layer Neurons: (10, 10, 6), Activation: swish, Accuracy: 100.0%\n",
            "Hidden Layer Neurons: (10, 10, 6), Activation: gelu, Accuracy: 100.0%\n",
            "Hidden Layer Neurons: (10, 10, 6), Activation: selu, Accuracy: 100.0%\n",
            "Hidden Layer Neurons: (10, 10, 6), Activation: binary_step, Accuracy: 100.0%\n",
            "Hidden Layer Neurons: (10, 10, 6), Activation: linear, Accuracy: 100.0%\n",
            "Hidden Layer Neurons: (6, 8, 9), Activation: relu, Accuracy: 100.0%\n",
            "Hidden Layer Neurons: (6, 8, 9), Activation: sigmoid, Accuracy: 100.0%\n",
            "Hidden Layer Neurons: (6, 8, 9), Activation: tanh, Accuracy: 100.0%\n",
            "Hidden Layer Neurons: (6, 8, 9), Activation: leaky_relu, Accuracy: 100.0%\n",
            "Hidden Layer Neurons: (6, 8, 9), Activation: elu, Accuracy: 100.0%\n",
            "Hidden Layer Neurons: (6, 8, 9), Activation: swish, Accuracy: 100.0%\n",
            "Hidden Layer Neurons: (6, 8, 9), Activation: gelu, Accuracy: 100.0%\n",
            "Hidden Layer Neurons: (6, 8, 9), Activation: selu, Accuracy: 100.0%\n",
            "Hidden Layer Neurons: (6, 8, 9), Activation: binary_step, Accuracy: 100.0%\n",
            "Hidden Layer Neurons: (6, 8, 9), Activation: linear, Accuracy: 100.0%\n",
            "Hidden Layer Neurons: (6, 9, 1), Activation: relu, Accuracy: 100.0%\n",
            "Hidden Layer Neurons: (6, 9, 1), Activation: sigmoid, Accuracy: 100.0%\n",
            "Hidden Layer Neurons: (6, 9, 1), Activation: tanh, Accuracy: 100.0%\n",
            "Hidden Layer Neurons: (6, 9, 1), Activation: leaky_relu, Accuracy: 100.0%\n",
            "Hidden Layer Neurons: (6, 9, 1), Activation: elu, Accuracy: 100.0%\n",
            "Hidden Layer Neurons: (6, 9, 1), Activation: swish, Accuracy: 100.0%\n",
            "Hidden Layer Neurons: (6, 9, 1), Activation: gelu, Accuracy: 100.0%\n",
            "Hidden Layer Neurons: (6, 9, 1), Activation: selu, Accuracy: 100.0%\n",
            "Hidden Layer Neurons: (6, 9, 1), Activation: binary_step, Accuracy: 100.0%\n",
            "Hidden Layer Neurons: (6, 9, 1), Activation: linear, Accuracy: 100.0%\n",
            "Hidden Layer Neurons: (6, 3, 9), Activation: relu, Accuracy: 100.0%\n",
            "Hidden Layer Neurons: (6, 3, 9), Activation: sigmoid, Accuracy: 100.0%\n",
            "Hidden Layer Neurons: (6, 3, 9), Activation: tanh, Accuracy: 100.0%\n",
            "Hidden Layer Neurons: (6, 3, 9), Activation: leaky_relu, Accuracy: 100.0%\n",
            "Hidden Layer Neurons: (6, 3, 9), Activation: elu, Accuracy: 100.0%\n",
            "Hidden Layer Neurons: (6, 3, 9), Activation: swish, Accuracy: 100.0%\n",
            "Hidden Layer Neurons: (6, 3, 9), Activation: gelu, Accuracy: 100.0%\n",
            "Hidden Layer Neurons: (6, 3, 9), Activation: selu, Accuracy: 100.0%\n",
            "Hidden Layer Neurons: (6, 3, 9), Activation: binary_step, Accuracy: 100.0%\n",
            "Hidden Layer Neurons: (6, 3, 9), Activation: linear, Accuracy: 100.0%\n",
            "Hidden Layer Neurons: (7, 10, 8), Activation: relu, Accuracy: 100.0%\n",
            "Hidden Layer Neurons: (7, 10, 8), Activation: sigmoid, Accuracy: 100.0%\n",
            "Hidden Layer Neurons: (7, 10, 8), Activation: tanh, Accuracy: 100.0%\n",
            "Hidden Layer Neurons: (7, 10, 8), Activation: leaky_relu, Accuracy: 100.0%\n",
            "Hidden Layer Neurons: (7, 10, 8), Activation: elu, Accuracy: 100.0%\n",
            "Hidden Layer Neurons: (7, 10, 8), Activation: swish, Accuracy: 100.0%\n",
            "Hidden Layer Neurons: (7, 10, 8), Activation: gelu, Accuracy: 100.0%\n",
            "Hidden Layer Neurons: (7, 10, 8), Activation: selu, Accuracy: 100.0%\n",
            "Hidden Layer Neurons: (7, 10, 8), Activation: binary_step, Accuracy: 100.0%\n",
            "Hidden Layer Neurons: (7, 10, 8), Activation: linear, Accuracy: 100.0%\n"
          ]
        }
      ]
    }
  ]
}