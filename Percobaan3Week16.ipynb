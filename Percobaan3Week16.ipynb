{
  "nbformat": 4,
  "nbformat_minor": 0,
  "metadata": {
    "colab": {
      "provenance": [],
      "authorship_tag": "ABX9TyNqL0ZVL6CnRFnOA/tMU8gK",
      "include_colab_link": true
    },
    "kernelspec": {
      "name": "python3",
      "display_name": "Python 3"
    },
    "language_info": {
      "name": "python"
    }
  },
  "cells": [
    {
      "cell_type": "markdown",
      "metadata": {
        "id": "view-in-github",
        "colab_type": "text"
      },
      "source": [
        "<a href=\"https://colab.research.google.com/github/RatihParamita/dataMining/blob/main/Percobaan3Week16.ipynb\" target=\"_parent\"><img src=\"https://colab.research.google.com/assets/colab-badge.svg\" alt=\"Open In Colab\"/></a>"
      ]
    },
    {
      "cell_type": "code",
      "execution_count": null,
      "metadata": {
        "id": "9rNHKTj8Dddd"
      },
      "outputs": [],
      "source": [
        "import numpy as np\n",
        "from sklearn.datasets import load_iris\n",
        "from sklearn.model_selection import train_test_split\n",
        "from sklearn.preprocessing import OneHotEncoder\n",
        "from sklearn.metrics import accuracy_score"
      ]
    },
    {
      "cell_type": "code",
      "source": [
        "iris = load_iris()\n",
        "X = iris.data\n",
        "y = iris.target"
      ],
      "metadata": {
        "id": "LgIUVAKxE79w"
      },
      "execution_count": null,
      "outputs": []
    },
    {
      "cell_type": "code",
      "source": [
        "encoder = OneHotEncoder(sparse=False)\n",
        "y = encoder.fit_transform(y.reshape(-1, 1))"
      ],
      "metadata": {
        "colab": {
          "base_uri": "https://localhost:8080/"
        },
        "id": "VJ-htdPZFAUl",
        "outputId": "62331376-8b0c-43c7-ed99-cb3d5ff65d28"
      },
      "execution_count": null,
      "outputs": [
        {
          "output_type": "stream",
          "name": "stderr",
          "text": [
            "/usr/local/lib/python3.10/dist-packages/sklearn/preprocessing/_encoders.py:868: FutureWarning: `sparse` was renamed to `sparse_output` in version 1.2 and will be removed in 1.4. `sparse_output` is ignored unless you leave `sparse` to its default value.\n",
            "  warnings.warn(\n"
          ]
        }
      ]
    },
    {
      "cell_type": "code",
      "source": [
        "X_train, X_test, y_train, y_test = train_test_split(X, y, test_size=0.2, random_state=42)"
      ],
      "metadata": {
        "id": "hZeVDlsbFSXD"
      },
      "execution_count": null,
      "outputs": []
    },
    {
      "cell_type": "code",
      "source": [
        "# Fungsi aktivasi sigmoid\n",
        "def sigmoid(x):\n",
        "  return 1/ (1 + np.exp(-x))\n",
        "\n",
        "# Turunan fungsi sigmoid\n",
        "def sigmoid_derivative(x):\n",
        "  return x * (1 - x)"
      ],
      "metadata": {
        "id": "JCq47OZ_FcOT"
      },
      "execution_count": null,
      "outputs": []
    },
    {
      "cell_type": "code",
      "source": [
        "input_layer_neurons = X_train.shape[1]\n",
        "hidden_layer_neurons = 10\n",
        "output_layer_neurons = y_train.shape[1]"
      ],
      "metadata": {
        "id": "WtfoU7FCF3WR"
      },
      "execution_count": null,
      "outputs": []
    },
    {
      "cell_type": "code",
      "source": [
        "np.random.seed(42)\n",
        "weights_input_hidden = np.random.uniform(size=(input_layer_neurons, hidden_layer_neurons))\n",
        "weights_hidden_output = np.random.uniform(size=(hidden_layer_neurons, output_layer_neurons))\n",
        "bias_hidden = np.random.uniform(size=(1, hidden_layer_neurons))\n",
        "bias_output = np.random.uniform(size=(1, output_layer_neurons))"
      ],
      "metadata": {
        "id": "u1dd7eIGGOFe"
      },
      "execution_count": null,
      "outputs": []
    },
    {
      "cell_type": "code",
      "source": [
        "learning_rate = 0.01\n",
        "epochs = 5000"
      ],
      "metadata": {
        "id": "bCMFM2NiG53g"
      },
      "execution_count": null,
      "outputs": []
    },
    {
      "cell_type": "code",
      "source": [
        "# Proses pelatihan\n",
        "for epoch in range(epochs):\n",
        "  # Forward propagation\n",
        "  hidden_layer_input = np.dot(X_train, weights_input_hidden) + bias_hidden\n",
        "  hidden_layer_output = sigmoid(hidden_layer_input)\n",
        "  output_layer_input = np.dot(hidden_layer_output, weights_hidden_output) + bias_output\n",
        "  predicted_output = sigmoid(output_layer_input)\n",
        "  # Backpropagation\n",
        "  error = y_train - predicted_output\n",
        "  d_predicted_output = error * sigmoid_derivative(predicted_output)\n",
        "  error_hidden_layer = d_predicted_output.dot(weights_hidden_output.T)\n",
        "  d_hidden_layer = error_hidden_layer * sigmoid_derivative(hidden_layer_output)\n",
        "  # Update bobot dan bias\n",
        "  weights_hidden_output += hidden_layer_output.T.dot(d_predicted_output) * learning_rate\n",
        "  bias_output += np.sum(d_predicted_output, axis=0, keepdims=True) * learning_rate\n",
        "  weights_input_hidden += X_train.T.dot(d_hidden_layer) * learning_rate\n",
        "  bias_hidden += np.sum(d_hidden_layer, axis=0, keepdims=True) * learning_rate\n",
        "  # Cetak error setiap 1000 epochs\n",
        "  if (epoch + 1) % 1000 == 0:\n",
        "    loss = np.mean(np.square(error))\n",
        "    print(f'Epoch {epoch + 1}, Loss: {loss}')"
      ],
      "metadata": {
        "colab": {
          "base_uri": "https://localhost:8080/"
        },
        "id": "-bljeMg6HICj",
        "outputId": "b7bc81bb-db70-4dbd-c8e9-2ca0004e3788"
      },
      "execution_count": null,
      "outputs": [
        {
          "output_type": "stream",
          "name": "stdout",
          "text": [
            "Epoch 1000, Loss: 0.019509750668484028\n",
            "Epoch 2000, Loss: 0.013124091004250757\n",
            "Epoch 3000, Loss: 0.01209906970618874\n",
            "Epoch 4000, Loss: 0.011671736356642695\n",
            "Epoch 5000, Loss: 0.011417050292884574\n"
          ]
        }
      ]
    },
    {
      "cell_type": "code",
      "source": [
        "hidden_layer_input = np.dot(X_test, weights_input_hidden) + bias_hidden\n",
        "hidden_layer_output = sigmoid(hidden_layer_input)\n",
        "output_layer_input = np.dot(hidden_layer_output, weights_hidden_output) + bias_output\n",
        "predicted_output = sigmoid(output_layer_input)"
      ],
      "metadata": {
        "id": "XyqmvCg6INeV"
      },
      "execution_count": null,
      "outputs": []
    },
    {
      "cell_type": "code",
      "source": [
        "y_test_labels = np.argmax(y_test, axis=1)\n",
        "predicted_labels = np.argmax(predicted_output, axis=1)\n",
        "accuracy = accuracy_score(y_test_labels, predicted_labels)\n",
        "print(f'Accuracy: {accuracy * 100}%')"
      ],
      "metadata": {
        "colab": {
          "base_uri": "https://localhost:8080/"
        },
        "id": "sjmrGm-2IchO",
        "outputId": "767e2a63-e9f2-4550-c30e-e79a759d8cab"
      },
      "execution_count": null,
      "outputs": [
        {
          "output_type": "stream",
          "name": "stdout",
          "text": [
            "Accuracy: 96.66666666666667%\n"
          ]
        }
      ]
    }
  ]
}